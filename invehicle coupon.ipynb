{
 "cells": [
  {
   "cell_type": "markdown",
   "id": "a116add4",
   "metadata": {},
   "source": [
    "# In-vehicle coupon recommendation"
   ]
  },
  {
   "cell_type": "markdown",
   "id": "6edce624",
   "metadata": {},
   "source": [
    "This data was collected via a survey on Amazon Mechanical Turk. \n",
    "The survey describes different driving scenarios including the destination, current time, weather, passenger, etc \n",
    "and then ask the person whether he will accept the coupon if he is the driver. \n",
    "For more information about the dataset, please refer to the paper\n",
    "Wang, Tong, Cynthia Rudin, Finale Doshi-Velez, Yimin Liu, Erica Klampfl, and Perry MacNeille. \n",
    "A bayesian framework for learning rule sets for interpretable classification.\n",
    "The Journal of Machine Learning Research 18, no. 1 (2017): 2357-2393."
   ]
  },
  {
   "cell_type": "code",
   "execution_count": 103,
   "id": "8975aabc",
   "metadata": {},
   "outputs": [],
   "source": [
    "import pandas as pd\n",
    "import numpy as np\n",
    "import matplotlib.pyplot as plt\n",
    "%matplotlib inline"
   ]
  },
  {
   "cell_type": "code",
   "execution_count": 104,
   "id": "e6a5cb5a",
   "metadata": {},
   "outputs": [
    {
     "name": "stdout",
     "output_type": "stream",
     "text": [
      "C:\\Users\\sande\\OneDrive\\Desktop\\New folder (2)\n"
     ]
    }
   ],
   "source": [
    "import io\n",
    "%cd \"C:\\Users\\sande\\OneDrive\\Desktop\\New folder (2)\""
   ]
  },
  {
   "cell_type": "code",
   "execution_count": 105,
   "id": "b0752a93",
   "metadata": {},
   "outputs": [],
   "source": [
    "invehicle=pd.read_csv(\"invehicle.csv\")"
   ]
  },
  {
   "cell_type": "code",
   "execution_count": 106,
   "id": "3afb310e",
   "metadata": {},
   "outputs": [
    {
     "name": "stdout",
     "output_type": "stream",
     "text": [
      "<class 'pandas.core.frame.DataFrame'>\n",
      "RangeIndex: 12684 entries, 0 to 12683\n",
      "Data columns (total 26 columns):\n",
      " #   Column                Non-Null Count  Dtype \n",
      "---  ------                --------------  ----- \n",
      " 0   destination           12684 non-null  object\n",
      " 1   passanger             12684 non-null  object\n",
      " 2   weather               12684 non-null  object\n",
      " 3   temperature           12684 non-null  int64 \n",
      " 4   time                  12684 non-null  object\n",
      " 5   coupon                12684 non-null  object\n",
      " 6   expiration            12684 non-null  object\n",
      " 7   gender                12684 non-null  object\n",
      " 8   age                   12684 non-null  object\n",
      " 9   maritalStatus         12684 non-null  object\n",
      " 10  has_children          12684 non-null  int64 \n",
      " 11  education             12684 non-null  object\n",
      " 12  occupation            12684 non-null  object\n",
      " 13  income                12684 non-null  object\n",
      " 14  car                   108 non-null    object\n",
      " 15  Bar                   12577 non-null  object\n",
      " 16  CoffeeHouse           12467 non-null  object\n",
      " 17  CarryAway             12533 non-null  object\n",
      " 18  RestaurantLessThan20  12554 non-null  object\n",
      " 19  Restaurant20To50      12495 non-null  object\n",
      " 20  toCoupon_GEQ5min      12684 non-null  int64 \n",
      " 21  toCoupon_GEQ15min     12684 non-null  int64 \n",
      " 22  toCoupon_GEQ25min     12684 non-null  int64 \n",
      " 23  direction_same        12684 non-null  int64 \n",
      " 24  direction_opp         12684 non-null  int64 \n",
      " 25  Y                     12684 non-null  int64 \n",
      "dtypes: int64(8), object(18)\n",
      "memory usage: 2.5+ MB\n"
     ]
    }
   ],
   "source": [
    "invehicle.info()"
   ]
  },
  {
   "cell_type": "code",
   "execution_count": 107,
   "id": "a4f297dc",
   "metadata": {},
   "outputs": [],
   "source": [
    "invehicle=invehicle.drop(\"car\",axis=1)"
   ]
  },
  {
   "cell_type": "code",
   "execution_count": 108,
   "id": "cfff5328",
   "metadata": {},
   "outputs": [],
   "source": [
    "invehicle=invehicle.drop(\"toCoupon_GEQ5min\",axis=1)"
   ]
  },
  {
   "cell_type": "code",
   "execution_count": 109,
   "id": "1de37169",
   "metadata": {},
   "outputs": [
    {
     "data": {
      "text/plain": [
       "never    5197\n",
       "less1    3482\n",
       "1~3      2473\n",
       "4~8      1076\n",
       "gt8       349\n",
       "Name: Bar, dtype: int64"
      ]
     },
     "execution_count": 109,
     "metadata": {},
     "output_type": "execute_result"
    }
   ],
   "source": [
    "invehicle.Bar.value_counts()"
   ]
  },
  {
   "cell_type": "code",
   "execution_count": 110,
   "id": "92c7dd98",
   "metadata": {},
   "outputs": [],
   "source": [
    "invehicle.Bar=invehicle.Bar.fillna(invehicle.Bar.value_counts().idxmax())"
   ]
  },
  {
   "cell_type": "code",
   "execution_count": 111,
   "id": "8991268f",
   "metadata": {},
   "outputs": [
    {
     "data": {
      "text/plain": [
       "less1    3385\n",
       "1~3      3225\n",
       "never    2962\n",
       "4~8      1784\n",
       "gt8      1111\n",
       "Name: CoffeeHouse, dtype: int64"
      ]
     },
     "execution_count": 111,
     "metadata": {},
     "output_type": "execute_result"
    }
   ],
   "source": [
    "invehicle.CoffeeHouse.value_counts()"
   ]
  },
  {
   "cell_type": "code",
   "execution_count": 112,
   "id": "f7f2b720",
   "metadata": {},
   "outputs": [],
   "source": [
    "invehicle.CoffeeHouse=invehicle.CoffeeHouse.fillna(invehicle.CoffeeHouse.value_counts().idxmax())"
   ]
  },
  {
   "cell_type": "code",
   "execution_count": 113,
   "id": "fd20eaee",
   "metadata": {},
   "outputs": [
    {
     "data": {
      "text/plain": [
       "1~3      4672\n",
       "4~8      4258\n",
       "less1    1856\n",
       "gt8      1594\n",
       "never     153\n",
       "Name: CarryAway, dtype: int64"
      ]
     },
     "execution_count": 113,
     "metadata": {},
     "output_type": "execute_result"
    }
   ],
   "source": [
    "invehicle.CarryAway.value_counts()"
   ]
  },
  {
   "cell_type": "code",
   "execution_count": 114,
   "id": "76f1fb5d",
   "metadata": {},
   "outputs": [],
   "source": [
    "invehicle.CarryAway=invehicle.CarryAway.fillna(invehicle.CarryAway.value_counts().idxmax())"
   ]
  },
  {
   "cell_type": "code",
   "execution_count": 115,
   "id": "4d403ceb",
   "metadata": {},
   "outputs": [
    {
     "data": {
      "text/plain": [
       "1~3      5376\n",
       "4~8      3580\n",
       "less1    2093\n",
       "gt8      1285\n",
       "never     220\n",
       "Name: RestaurantLessThan20, dtype: int64"
      ]
     },
     "execution_count": 115,
     "metadata": {},
     "output_type": "execute_result"
    }
   ],
   "source": [
    "invehicle.RestaurantLessThan20.value_counts()"
   ]
  },
  {
   "cell_type": "code",
   "execution_count": 116,
   "id": "52f50b09",
   "metadata": {},
   "outputs": [],
   "source": [
    "invehicle.RestaurantLessThan20=invehicle.RestaurantLessThan20.fillna(invehicle.RestaurantLessThan20.value_counts().idxmax())"
   ]
  },
  {
   "cell_type": "code",
   "execution_count": 117,
   "id": "a86a866a",
   "metadata": {},
   "outputs": [
    {
     "data": {
      "text/plain": [
       "less1    6077\n",
       "1~3      3290\n",
       "never    2136\n",
       "4~8       728\n",
       "gt8       264\n",
       "Name: Restaurant20To50, dtype: int64"
      ]
     },
     "execution_count": 117,
     "metadata": {},
     "output_type": "execute_result"
    }
   ],
   "source": [
    "invehicle.Restaurant20To50.value_counts()"
   ]
  },
  {
   "cell_type": "code",
   "execution_count": 118,
   "id": "7dff103a",
   "metadata": {},
   "outputs": [],
   "source": [
    "invehicle.Restaurant20To50=invehicle.Restaurant20To50.fillna(invehicle.Restaurant20To50.value_counts().idxmax())"
   ]
  },
  {
   "cell_type": "code",
   "execution_count": 119,
   "id": "89f825bb",
   "metadata": {},
   "outputs": [
    {
     "name": "stdout",
     "output_type": "stream",
     "text": [
      "<class 'pandas.core.frame.DataFrame'>\n",
      "RangeIndex: 12684 entries, 0 to 12683\n",
      "Data columns (total 24 columns):\n",
      " #   Column                Non-Null Count  Dtype \n",
      "---  ------                --------------  ----- \n",
      " 0   destination           12684 non-null  object\n",
      " 1   passanger             12684 non-null  object\n",
      " 2   weather               12684 non-null  object\n",
      " 3   temperature           12684 non-null  int64 \n",
      " 4   time                  12684 non-null  object\n",
      " 5   coupon                12684 non-null  object\n",
      " 6   expiration            12684 non-null  object\n",
      " 7   gender                12684 non-null  object\n",
      " 8   age                   12684 non-null  object\n",
      " 9   maritalStatus         12684 non-null  object\n",
      " 10  has_children          12684 non-null  int64 \n",
      " 11  education             12684 non-null  object\n",
      " 12  occupation            12684 non-null  object\n",
      " 13  income                12684 non-null  object\n",
      " 14  Bar                   12684 non-null  object\n",
      " 15  CoffeeHouse           12684 non-null  object\n",
      " 16  CarryAway             12684 non-null  object\n",
      " 17  RestaurantLessThan20  12684 non-null  object\n",
      " 18  Restaurant20To50      12684 non-null  object\n",
      " 19  toCoupon_GEQ15min     12684 non-null  int64 \n",
      " 20  toCoupon_GEQ25min     12684 non-null  int64 \n",
      " 21  direction_same        12684 non-null  int64 \n",
      " 22  direction_opp         12684 non-null  int64 \n",
      " 23  Y                     12684 non-null  int64 \n",
      "dtypes: int64(7), object(17)\n",
      "memory usage: 2.3+ MB\n"
     ]
    }
   ],
   "source": [
    "invehicle.info()"
   ]
  },
  {
   "cell_type": "code",
   "execution_count": 120,
   "id": "b15866c8",
   "metadata": {},
   "outputs": [
    {
     "data": {
      "text/plain": [
       "<Axes: >"
      ]
     },
     "execution_count": 120,
     "metadata": {},
     "output_type": "execute_result"
    },
    {
     "data": {
      "image/png": "[encoded data removed]",
      "text/plain": [
       "<Figure size 800x550 with 1 Axes>"
      ]
     },
     "metadata": {},
     "output_type": "display_data"
    }
   ],
   "source": [
    "# EDA\n",
    "invehicle.Bar.value_counts().plot(kind='bar')"
   ]
  },
  {
   "cell_type": "code",
   "execution_count": 121,
   "id": "faad1837",
   "metadata": {},
   "outputs": [
    {
     "data": {
      "text/plain": [
       "<Axes: ylabel='Y'>"
      ]
     },
     "execution_count": 121,
     "metadata": {},
     "output_type": "execute_result"
    },
    {
     "data": {
      "image/png": "[encoded data removed]",
      "text/plain": [
       "<Figure size 800x550 with 1 Axes>"
      ]
     },
     "metadata": {},
     "output_type": "display_data"
    }
   ],
   "source": [
    "invehicle.Y.value_counts().plot(kind='pie',autopct='%2f%%')"
   ]
  },
  {
   "cell_type": "code",
   "execution_count": 122,
   "id": "da1e8860",
   "metadata": {},
   "outputs": [
    {
     "data": {
      "text/plain": [
       "<Axes: ylabel='education'>"
      ]
     },
     "execution_count": 122,
     "metadata": {},
     "output_type": "execute_result"
    },
    {
     "data": {
      "image/png": "[encoded data removed]",
      "text/plain": [
       "<Figure size 800x550 with 1 Axes>"
      ]
     },
     "metadata": {},
     "output_type": "display_data"
    }
   ],
   "source": [
    "invehicle.education.value_counts().plot(kind='pie',autopct='%2f%%')"
   ]
  },
  {
   "cell_type": "code",
   "execution_count": 123,
   "id": "2abbc24c",
   "metadata": {},
   "outputs": [
    {
     "data": {
      "image/png": "[encoded data removed]",
      "text/plain": [
       "<Figure size 800x550 with 1 Axes>"
      ]
     },
     "metadata": {},
     "output_type": "display_data"
    }
   ],
   "source": [
    "ax=invehicle.gender.value_counts().plot(kind='bar')\n",
    "for i in ax.containers:\n",
    "    ax.bar_label(i)"
   ]
  },
  {
   "cell_type": "code",
   "execution_count": 124,
   "id": "b0091db0",
   "metadata": {},
   "outputs": [
    {
     "data": {
      "image/png": "[encoded data removed]",
      "text/plain": [
       "<Figure size 800x550 with 1 Axes>"
      ]
     },
     "metadata": {},
     "output_type": "display_data"
    }
   ],
   "source": [
    "ax=invehicle.temperature.value_counts().plot(kind='bar',color='black')\n",
    "for i in ax.containers:\n",
    "    ax.bar_label(i)"
   ]
  },
  {
   "cell_type": "code",
   "execution_count": 125,
   "id": "8a194041",
   "metadata": {},
   "outputs": [
    {
     "data": {
      "image/png": "[encoded data removed]",
      "text/plain": [
       "<Figure size 800x550 with 1 Axes>"
      ]
     },
     "metadata": {},
     "output_type": "display_data"
    }
   ],
   "source": [
    "ax=pd.crosstab(invehicle.passanger,invehicle.destination).plot(\n",
    "kind='bar',stacked=True)\n",
    "for i in ax.containers:\n",
    "    ax.bar_label(i)"
   ]
  },
  {
   "cell_type": "code",
   "execution_count": 126,
   "id": "de123993",
   "metadata": {},
   "outputs": [
    {
     "data": {
      "image/png": "[encoded data removed]",
      "text/plain": [
       "<Figure size 800x550 with 1 Axes>"
      ]
     },
     "metadata": {},
     "output_type": "display_data"
    }
   ],
   "source": [
    "ax=pd.crosstab(invehicle.income,invehicle.coupon).plot(\n",
    "kind='bar',stacked=True)\n",
    "for i in ax.containers:\n",
    "    ax.bar_label(i)"
   ]
  },
  {
   "cell_type": "code",
   "execution_count": 127,
   "id": "438068fc",
   "metadata": {},
   "outputs": [],
   "source": [
    "import seaborn as sns"
   ]
  },
  {
   "cell_type": "code",
   "execution_count": 128,
   "id": "7dbf5f2f",
   "metadata": {},
   "outputs": [
    {
     "data": {
      "text/plain": [
       "<Figure size 3000x1500 with 0 Axes>"
      ]
     },
     "metadata": {},
     "output_type": "display_data"
    },
    {
     "data": {
      "image/png": "[encoded data removed]",
      "text/plain": [
       "<Figure size 800x550 with 3 Axes>"
      ]
     },
     "metadata": {},
     "output_type": "display_data"
    }
   ],
   "source": [
    "plt.figure(figsize=(30,15))\n",
    "fig,ax=plt.subplots(3,1)\n",
    "sns.kdeplot(invehicle.Y,ax=ax[0])\n",
    "sns.histplot(invehicle.Y,ax=ax[1])\n",
    "sns.boxplot(invehicle.Y,ax=ax[2],orient='h')\n",
    "plt.show()"
   ]
  },
  {
   "cell_type": "code",
   "execution_count": 129,
   "id": "a5ed69ad",
   "metadata": {},
   "outputs": [
    {
     "data": {
      "text/html": [
       "<div>\n",
       "<style scoped>\n",
       "    .dataframe tbody tr th:only-of-type {\n",
       "        vertical-align: middle;\n",
       "    }\n",
       "\n",
       "    .dataframe tbody tr th {\n",
       "        vertical-align: top;\n",
       "    }\n",
       "\n",
       "    .dataframe thead th {\n",
       "        text-align: right;\n",
       "    }\n",
       "</style>\n",
       "<table border=\"1\" class=\"dataframe\">\n",
       "  <thead>\n",
       "    <tr style=\"text-align: right;\">\n",
       "      <th>gender</th>\n",
       "      <th>Female</th>\n",
       "      <th>Male</th>\n",
       "    </tr>\n",
       "    <tr>\n",
       "      <th>Y</th>\n",
       "      <th></th>\n",
       "      <th></th>\n",
       "    </tr>\n",
       "  </thead>\n",
       "  <tbody>\n",
       "    <tr>\n",
       "      <th>0</th>\n",
       "      <td>2948</td>\n",
       "      <td>2526</td>\n",
       "    </tr>\n",
       "    <tr>\n",
       "      <th>1</th>\n",
       "      <td>3563</td>\n",
       "      <td>3647</td>\n",
       "    </tr>\n",
       "  </tbody>\n",
       "</table>\n",
       "</div>"
      ],
      "text/plain": [
       "gender  Female  Male\n",
       "Y                   \n",
       "0         2948  2526\n",
       "1         3563  3647"
      ]
     },
     "execution_count": 129,
     "metadata": {},
     "output_type": "execute_result"
    }
   ],
   "source": [
    "# Test Null no Association between Y and gender\n",
    "pd.crosstab(invehicle.Y,invehicle.gender)"
   ]
  },
  {
   "cell_type": "code",
   "execution_count": 130,
   "id": "ba03c03a",
   "metadata": {},
   "outputs": [],
   "source": [
    "from scipy.stats import chi2_contingency"
   ]
  },
  {
   "cell_type": "code",
   "execution_count": 131,
   "id": "669a578f",
   "metadata": {},
   "outputs": [
    {
     "data": {
      "text/plain": [
       "Chi2ContingencyResult(statistic=24.344527038622925, pvalue=8.05552865589407e-07, dof=1, expected_freq=array([[2809.93487859, 2664.06512141],\n",
       "       [3701.06512141, 3508.93487859]]))"
      ]
     },
     "execution_count": 131,
     "metadata": {},
     "output_type": "execute_result"
    }
   ],
   "source": [
    "chi2_contingency(pd.crosstab(invehicle.Y,invehicle.gender))\n",
    "# since pvalue=8.05552865589407e-07 is less than 0.05, Reject NULL"
   ]
  },
  {
   "cell_type": "code",
   "execution_count": 132,
   "id": "9da64e9d",
   "metadata": {},
   "outputs": [
    {
     "data": {
      "text/html": [
       "<div>\n",
       "<style scoped>\n",
       "    .dataframe tbody tr th:only-of-type {\n",
       "        vertical-align: middle;\n",
       "    }\n",
       "\n",
       "    .dataframe tbody tr th {\n",
       "        vertical-align: top;\n",
       "    }\n",
       "\n",
       "    .dataframe thead th {\n",
       "        text-align: right;\n",
       "    }\n",
       "</style>\n",
       "<table border=\"1\" class=\"dataframe\">\n",
       "  <thead>\n",
       "    <tr style=\"text-align: right;\">\n",
       "      <th>destination</th>\n",
       "      <th>Home</th>\n",
       "      <th>No Urgent Place</th>\n",
       "      <th>Work</th>\n",
       "    </tr>\n",
       "    <tr>\n",
       "      <th>Y</th>\n",
       "      <th></th>\n",
       "      <th></th>\n",
       "      <th></th>\n",
       "    </tr>\n",
       "  </thead>\n",
       "  <tbody>\n",
       "    <tr>\n",
       "      <th>0</th>\n",
       "      <td>1598</td>\n",
       "      <td>2301</td>\n",
       "      <td>1575</td>\n",
       "    </tr>\n",
       "    <tr>\n",
       "      <th>1</th>\n",
       "      <td>1639</td>\n",
       "      <td>3982</td>\n",
       "      <td>1589</td>\n",
       "    </tr>\n",
       "  </tbody>\n",
       "</table>\n",
       "</div>"
      ],
      "text/plain": [
       "destination  Home  No Urgent Place  Work\n",
       "Y                                       \n",
       "0            1598             2301  1575\n",
       "1            1639             3982  1589"
      ]
     },
     "execution_count": 132,
     "metadata": {},
     "output_type": "execute_result"
    }
   ],
   "source": [
    "# Test Null no Association between Y and destination\n",
    "pd.crosstab(invehicle.Y,invehicle.destination)"
   ]
  },
  {
   "cell_type": "code",
   "execution_count": 133,
   "id": "c085816c",
   "metadata": {},
   "outputs": [
    {
     "data": {
      "text/plain": [
       "Chi2ContingencyResult(statistic=216.79107304896826, pvalue=8.40265678045787e-48, dof=2, expected_freq=array([[1396.98344371, 2711.53752759, 1365.4790287 ],\n",
       "       [1840.01655629, 3571.46247241, 1798.5209713 ]]))"
      ]
     },
     "execution_count": 133,
     "metadata": {},
     "output_type": "execute_result"
    }
   ],
   "source": [
    "chi2_contingency(pd.crosstab(invehicle.Y,invehicle.destination))\n",
    "# since pvalue=8.40265678045787e-48 is less than 0.05, Reject NULL"
   ]
  },
  {
   "cell_type": "code",
   "execution_count": 134,
   "id": "7a1c1589",
   "metadata": {},
   "outputs": [
    {
     "data": {
      "text/html": [
       "<div>\n",
       "<style scoped>\n",
       "    .dataframe tbody tr th:only-of-type {\n",
       "        vertical-align: middle;\n",
       "    }\n",
       "\n",
       "    .dataframe tbody tr th {\n",
       "        vertical-align: top;\n",
       "    }\n",
       "\n",
       "    .dataframe thead th {\n",
       "        text-align: right;\n",
       "    }\n",
       "</style>\n",
       "<table border=\"1\" class=\"dataframe\">\n",
       "  <thead>\n",
       "    <tr style=\"text-align: right;\">\n",
       "      <th>maritalStatus</th>\n",
       "      <th>Divorced</th>\n",
       "      <th>Married partner</th>\n",
       "      <th>Single</th>\n",
       "      <th>Unmarried partner</th>\n",
       "      <th>Widowed</th>\n",
       "    </tr>\n",
       "    <tr>\n",
       "      <th>Y</th>\n",
       "      <th></th>\n",
       "      <th></th>\n",
       "      <th></th>\n",
       "      <th></th>\n",
       "      <th></th>\n",
       "    </tr>\n",
       "  </thead>\n",
       "  <tbody>\n",
       "    <tr>\n",
       "      <th>0</th>\n",
       "      <td>243</td>\n",
       "      <td>2331</td>\n",
       "      <td>1873</td>\n",
       "      <td>959</td>\n",
       "      <td>68</td>\n",
       "    </tr>\n",
       "    <tr>\n",
       "      <th>1</th>\n",
       "      <td>273</td>\n",
       "      <td>2769</td>\n",
       "      <td>2879</td>\n",
       "      <td>1227</td>\n",
       "      <td>62</td>\n",
       "    </tr>\n",
       "  </tbody>\n",
       "</table>\n",
       "</div>"
      ],
      "text/plain": [
       "maritalStatus  Divorced  Married partner  Single  Unmarried partner  Widowed\n",
       "Y                                                                           \n",
       "0                   243             2331    1873                959       68\n",
       "1                   273             2769    2879               1227       62"
      ]
     },
     "execution_count": 134,
     "metadata": {},
     "output_type": "execute_result"
    }
   ],
   "source": [
    "# Test Null no Association between Y and maritalStatus\n",
    "pd.crosstab(invehicle.Y,invehicle.maritalStatus)"
   ]
  },
  {
   "cell_type": "code",
   "execution_count": 135,
   "id": "5fb50afc",
   "metadata": {},
   "outputs": [
    {
     "data": {
      "text/plain": [
       "Chi2ContingencyResult(statistic=48.77999591154126, pvalue=6.48964798323251e-10, dof=4, expected_freq=array([[ 222.68874172, 2200.99337748, 2050.80794702,  943.40618102,\n",
       "          56.10375276],\n",
       "       [ 293.31125828, 2899.00662252, 2701.19205298, 1242.59381898,\n",
       "          73.89624724]]))"
      ]
     },
     "execution_count": 135,
     "metadata": {},
     "output_type": "execute_result"
    }
   ],
   "source": [
    "chi2_contingency(pd.crosstab(invehicle.Y,invehicle.maritalStatus))\n",
    "# since pvalue=6.48964798323251e-10 is less than 0.05, Reject NULL"
   ]
  },
  {
   "cell_type": "code",
   "execution_count": 136,
   "id": "74de7227",
   "metadata": {},
   "outputs": [
    {
     "data": {
      "text/html": [
       "<div>\n",
       "<style scoped>\n",
       "    .dataframe tbody tr th:only-of-type {\n",
       "        vertical-align: middle;\n",
       "    }\n",
       "\n",
       "    .dataframe tbody tr th {\n",
       "        vertical-align: top;\n",
       "    }\n",
       "\n",
       "    .dataframe thead th {\n",
       "        text-align: right;\n",
       "    }\n",
       "</style>\n",
       "<table border=\"1\" class=\"dataframe\">\n",
       "  <thead>\n",
       "    <tr style=\"text-align: right;\">\n",
       "      <th>income</th>\n",
       "      <th>$100000 or More</th>\n",
       "      <th>$12500 - $24999</th>\n",
       "      <th>$25000 - $37499</th>\n",
       "      <th>$37500 - $49999</th>\n",
       "      <th>$50000 - $62499</th>\n",
       "      <th>$62500 - $74999</th>\n",
       "      <th>$75000 - $87499</th>\n",
       "      <th>$87500 - $99999</th>\n",
       "      <th>Less than $12500</th>\n",
       "    </tr>\n",
       "    <tr>\n",
       "      <th>Y</th>\n",
       "      <th></th>\n",
       "      <th></th>\n",
       "      <th></th>\n",
       "      <th></th>\n",
       "      <th></th>\n",
       "      <th></th>\n",
       "      <th></th>\n",
       "      <th></th>\n",
       "      <th></th>\n",
       "    </tr>\n",
       "  </thead>\n",
       "  <tbody>\n",
       "    <tr>\n",
       "      <th>0</th>\n",
       "      <td>732</td>\n",
       "      <td>779</td>\n",
       "      <td>819</td>\n",
       "      <td>787</td>\n",
       "      <td>671</td>\n",
       "      <td>400</td>\n",
       "      <td>443</td>\n",
       "      <td>419</td>\n",
       "      <td>424</td>\n",
       "    </tr>\n",
       "    <tr>\n",
       "      <th>1</th>\n",
       "      <td>1004</td>\n",
       "      <td>1052</td>\n",
       "      <td>1194</td>\n",
       "      <td>1018</td>\n",
       "      <td>988</td>\n",
       "      <td>446</td>\n",
       "      <td>414</td>\n",
       "      <td>476</td>\n",
       "      <td>618</td>\n",
       "    </tr>\n",
       "  </tbody>\n",
       "</table>\n",
       "</div>"
      ],
      "text/plain": [
       "income  $100000 or More  $12500 - $24999  $25000 - $37499  $37500 - $49999  \\\n",
       "Y                                                                            \n",
       "0                   732              779              819              787   \n",
       "1                  1004             1052             1194             1018   \n",
       "\n",
       "income  $50000 - $62499  $62500 - $74999  $75000 - $87499  $87500 - $99999  \\\n",
       "Y                                                                            \n",
       "0                   671              400              443              419   \n",
       "1                   988              446              414              476   \n",
       "\n",
       "income  Less than $12500  \n",
       "Y                         \n",
       "0                    424  \n",
       "1                    618  "
      ]
     },
     "execution_count": 136,
     "metadata": {},
     "output_type": "execute_result"
    }
   ],
   "source": [
    "# Test Null no Association between Y and income\n",
    "pd.crosstab(invehicle.Y,invehicle.income)"
   ]
  },
  {
   "cell_type": "code",
   "execution_count": 137,
   "id": "74e26343",
   "metadata": {},
   "outputs": [
    {
     "data": {
      "text/plain": [
       "Chi2ContingencyResult(statistic=49.88268726622557, pvalue=4.30446851198096e-08, dof=8, expected_freq=array([[ 749.200883  ,  790.19977925,  868.74503311,  778.9790287 ,\n",
       "         715.97019868,  365.10596026,  369.85320088,  386.25275938,\n",
       "         449.69315673],\n",
       "       [ 986.799117  , 1040.80022075, 1144.25496689, 1026.0209713 ,\n",
       "         943.02980132,  480.89403974,  487.14679912,  508.74724062,\n",
       "         592.30684327]]))"
      ]
     },
     "execution_count": 137,
     "metadata": {},
     "output_type": "execute_result"
    }
   ],
   "source": [
    "chi2_contingency(pd.crosstab(invehicle.Y,invehicle.income))\n",
    "# since pvalue=4.30446851198096e-08 is less than 0.05, Reject NULL"
   ]
  },
  {
   "cell_type": "code",
   "execution_count": 138,
   "id": "25cbd869",
   "metadata": {},
   "outputs": [
    {
     "data": {
      "text/html": [
       "<div>\n",
       "<style scoped>\n",
       "    .dataframe tbody tr th:only-of-type {\n",
       "        vertical-align: middle;\n",
       "    }\n",
       "\n",
       "    .dataframe tbody tr th {\n",
       "        vertical-align: top;\n",
       "    }\n",
       "\n",
       "    .dataframe thead th {\n",
       "        text-align: right;\n",
       "    }\n",
       "</style>\n",
       "<table border=\"1\" class=\"dataframe\">\n",
       "  <thead>\n",
       "    <tr style=\"text-align: right;\">\n",
       "      <th>weather</th>\n",
       "      <th>Rainy</th>\n",
       "      <th>Snowy</th>\n",
       "      <th>Sunny</th>\n",
       "    </tr>\n",
       "    <tr>\n",
       "      <th>Y</th>\n",
       "      <th></th>\n",
       "      <th></th>\n",
       "      <th></th>\n",
       "    </tr>\n",
       "  </thead>\n",
       "  <tbody>\n",
       "    <tr>\n",
       "      <th>0</th>\n",
       "      <td>650</td>\n",
       "      <td>744</td>\n",
       "      <td>4080</td>\n",
       "    </tr>\n",
       "    <tr>\n",
       "      <th>1</th>\n",
       "      <td>560</td>\n",
       "      <td>661</td>\n",
       "      <td>5989</td>\n",
       "    </tr>\n",
       "  </tbody>\n",
       "</table>\n",
       "</div>"
      ],
      "text/plain": [
       "weather  Rainy  Snowy  Sunny\n",
       "Y                           \n",
       "0          650    744   4080\n",
       "1          560    661   5989"
      ]
     },
     "execution_count": 138,
     "metadata": {},
     "output_type": "execute_result"
    }
   ],
   "source": [
    "# Test Null no Association between Y and weather\n",
    "pd.crosstab(invehicle.Y,invehicle.weather)"
   ]
  },
  {
   "cell_type": "code",
   "execution_count": 139,
   "id": "b8e5f6d7",
   "metadata": {},
   "outputs": [
    {
     "data": {
      "text/plain": [
       "Chi2ContingencyResult(statistic=138.5248252729253, pvalue=8.312207740720093e-31, dof=2, expected_freq=array([[ 522.19646799,  606.35209713, 4345.45143488],\n",
       "       [ 687.80353201,  798.64790287, 5723.54856512]]))"
      ]
     },
     "execution_count": 139,
     "metadata": {},
     "output_type": "execute_result"
    }
   ],
   "source": [
    "chi2_contingency(pd.crosstab(invehicle.Y,invehicle.weather))\n",
    "# since pvalue=8.312207740720093e-31 is less than 0.05, Reject NULL"
   ]
  },
  {
   "cell_type": "code",
   "execution_count": 140,
   "id": "f05b85bf",
   "metadata": {},
   "outputs": [
    {
     "data": {
      "text/plain": [
       "Index(['destination', 'passanger', 'weather', 'temperature', 'time', 'coupon',\n",
       "       'expiration', 'gender', 'age', 'maritalStatus', 'has_children',\n",
       "       'education', 'occupation', 'income', 'Bar', 'CoffeeHouse', 'CarryAway',\n",
       "       'RestaurantLessThan20', 'Restaurant20To50', 'toCoupon_GEQ15min',\n",
       "       'toCoupon_GEQ25min', 'direction_same', 'direction_opp', 'Y'],\n",
       "      dtype='object')"
      ]
     },
     "execution_count": 140,
     "metadata": {},
     "output_type": "execute_result"
    }
   ],
   "source": [
    "invehicle.columns"
   ]
  },
  {
   "cell_type": "code",
   "execution_count": 141,
   "id": "0bcd53e0",
   "metadata": {},
   "outputs": [],
   "source": [
    "invehicle_dummy=pd.get_dummies(invehicle,columns=['destination', 'passanger', 'weather', 'temperature', 'time', 'coupon',\n",
    "       'expiration', 'gender', 'age', 'maritalStatus', 'has_children',\n",
    "       'education', 'occupation', 'income', 'Bar', 'CoffeeHouse', 'CarryAway',\n",
    "       'RestaurantLessThan20', 'Restaurant20To50', 'toCoupon_GEQ15min',\n",
    "       'toCoupon_GEQ25min', 'direction_same', 'direction_opp'])"
   ]
  },
  {
   "cell_type": "code",
   "execution_count": 142,
   "id": "62357985",
   "metadata": {},
   "outputs": [
    {
     "data": {
      "text/html": [
       "<div>\n",
       "<style scoped>\n",
       "    .dataframe tbody tr th:only-of-type {\n",
       "        vertical-align: middle;\n",
       "    }\n",
       "\n",
       "    .dataframe tbody tr th {\n",
       "        vertical-align: top;\n",
       "    }\n",
       "\n",
       "    .dataframe thead th {\n",
       "        text-align: right;\n",
       "    }\n",
       "</style>\n",
       "<table border=\"1\" class=\"dataframe\">\n",
       "  <thead>\n",
       "    <tr style=\"text-align: right;\">\n",
       "      <th></th>\n",
       "      <th>Y</th>\n",
       "      <th>destination_Home</th>\n",
       "      <th>destination_No Urgent Place</th>\n",
       "      <th>destination_Work</th>\n",
       "      <th>passanger_Alone</th>\n",
       "      <th>passanger_Friend(s)</th>\n",
       "      <th>passanger_Kid(s)</th>\n",
       "      <th>passanger_Partner</th>\n",
       "      <th>weather_Rainy</th>\n",
       "      <th>weather_Snowy</th>\n",
       "      <th>...</th>\n",
       "      <th>Restaurant20To50_less1</th>\n",
       "      <th>Restaurant20To50_never</th>\n",
       "      <th>toCoupon_GEQ15min_0</th>\n",
       "      <th>toCoupon_GEQ15min_1</th>\n",
       "      <th>toCoupon_GEQ25min_0</th>\n",
       "      <th>toCoupon_GEQ25min_1</th>\n",
       "      <th>direction_same_0</th>\n",
       "      <th>direction_same_1</th>\n",
       "      <th>direction_opp_0</th>\n",
       "      <th>direction_opp_1</th>\n",
       "    </tr>\n",
       "  </thead>\n",
       "  <tbody>\n",
       "    <tr>\n",
       "      <th>0</th>\n",
       "      <td>1</td>\n",
       "      <td>0</td>\n",
       "      <td>1</td>\n",
       "      <td>0</td>\n",
       "      <td>1</td>\n",
       "      <td>0</td>\n",
       "      <td>0</td>\n",
       "      <td>0</td>\n",
       "      <td>0</td>\n",
       "      <td>0</td>\n",
       "      <td>...</td>\n",
       "      <td>0</td>\n",
       "      <td>0</td>\n",
       "      <td>1</td>\n",
       "      <td>0</td>\n",
       "      <td>1</td>\n",
       "      <td>0</td>\n",
       "      <td>1</td>\n",
       "      <td>0</td>\n",
       "      <td>0</td>\n",
       "      <td>1</td>\n",
       "    </tr>\n",
       "    <tr>\n",
       "      <th>1</th>\n",
       "      <td>0</td>\n",
       "      <td>0</td>\n",
       "      <td>1</td>\n",
       "      <td>0</td>\n",
       "      <td>0</td>\n",
       "      <td>1</td>\n",
       "      <td>0</td>\n",
       "      <td>0</td>\n",
       "      <td>0</td>\n",
       "      <td>0</td>\n",
       "      <td>...</td>\n",
       "      <td>0</td>\n",
       "      <td>0</td>\n",
       "      <td>1</td>\n",
       "      <td>0</td>\n",
       "      <td>1</td>\n",
       "      <td>0</td>\n",
       "      <td>1</td>\n",
       "      <td>0</td>\n",
       "      <td>0</td>\n",
       "      <td>1</td>\n",
       "    </tr>\n",
       "    <tr>\n",
       "      <th>2</th>\n",
       "      <td>1</td>\n",
       "      <td>0</td>\n",
       "      <td>1</td>\n",
       "      <td>0</td>\n",
       "      <td>0</td>\n",
       "      <td>1</td>\n",
       "      <td>0</td>\n",
       "      <td>0</td>\n",
       "      <td>0</td>\n",
       "      <td>0</td>\n",
       "      <td>...</td>\n",
       "      <td>0</td>\n",
       "      <td>0</td>\n",
       "      <td>0</td>\n",
       "      <td>1</td>\n",
       "      <td>1</td>\n",
       "      <td>0</td>\n",
       "      <td>1</td>\n",
       "      <td>0</td>\n",
       "      <td>0</td>\n",
       "      <td>1</td>\n",
       "    </tr>\n",
       "    <tr>\n",
       "      <th>3</th>\n",
       "      <td>0</td>\n",
       "      <td>0</td>\n",
       "      <td>1</td>\n",
       "      <td>0</td>\n",
       "      <td>0</td>\n",
       "      <td>1</td>\n",
       "      <td>0</td>\n",
       "      <td>0</td>\n",
       "      <td>0</td>\n",
       "      <td>0</td>\n",
       "      <td>...</td>\n",
       "      <td>0</td>\n",
       "      <td>0</td>\n",
       "      <td>0</td>\n",
       "      <td>1</td>\n",
       "      <td>1</td>\n",
       "      <td>0</td>\n",
       "      <td>1</td>\n",
       "      <td>0</td>\n",
       "      <td>0</td>\n",
       "      <td>1</td>\n",
       "    </tr>\n",
       "    <tr>\n",
       "      <th>4</th>\n",
       "      <td>0</td>\n",
       "      <td>0</td>\n",
       "      <td>1</td>\n",
       "      <td>0</td>\n",
       "      <td>0</td>\n",
       "      <td>1</td>\n",
       "      <td>0</td>\n",
       "      <td>0</td>\n",
       "      <td>0</td>\n",
       "      <td>0</td>\n",
       "      <td>...</td>\n",
       "      <td>0</td>\n",
       "      <td>0</td>\n",
       "      <td>0</td>\n",
       "      <td>1</td>\n",
       "      <td>1</td>\n",
       "      <td>0</td>\n",
       "      <td>1</td>\n",
       "      <td>0</td>\n",
       "      <td>0</td>\n",
       "      <td>1</td>\n",
       "    </tr>\n",
       "  </tbody>\n",
       "</table>\n",
       "<p>5 rows × 116 columns</p>\n",
       "</div>"
      ],
      "text/plain": [
       "   Y  destination_Home  destination_No Urgent Place  destination_Work  \\\n",
       "0  1                 0                            1                 0   \n",
       "1  0                 0                            1                 0   \n",
       "2  1                 0                            1                 0   \n",
       "3  0                 0                            1                 0   \n",
       "4  0                 0                            1                 0   \n",
       "\n",
       "   passanger_Alone  passanger_Friend(s)  passanger_Kid(s)  passanger_Partner  \\\n",
       "0                1                    0                 0                  0   \n",
       "1                0                    1                 0                  0   \n",
       "2                0                    1                 0                  0   \n",
       "3                0                    1                 0                  0   \n",
       "4                0                    1                 0                  0   \n",
       "\n",
       "   weather_Rainy  weather_Snowy  ...  Restaurant20To50_less1  \\\n",
       "0              0              0  ...                       0   \n",
       "1              0              0  ...                       0   \n",
       "2              0              0  ...                       0   \n",
       "3              0              0  ...                       0   \n",
       "4              0              0  ...                       0   \n",
       "\n",
       "   Restaurant20To50_never  toCoupon_GEQ15min_0  toCoupon_GEQ15min_1  \\\n",
       "0                       0                    1                    0   \n",
       "1                       0                    1                    0   \n",
       "2                       0                    0                    1   \n",
       "3                       0                    0                    1   \n",
       "4                       0                    0                    1   \n",
       "\n",
       "   toCoupon_GEQ25min_0  toCoupon_GEQ25min_1  direction_same_0  \\\n",
       "0                    1                    0                 1   \n",
       "1                    1                    0                 1   \n",
       "2                    1                    0                 1   \n",
       "3                    1                    0                 1   \n",
       "4                    1                    0                 1   \n",
       "\n",
       "   direction_same_1  direction_opp_0  direction_opp_1  \n",
       "0                 0                0                1  \n",
       "1                 0                0                1  \n",
       "2                 0                0                1  \n",
       "3                 0                0                1  \n",
       "4                 0                0                1  \n",
       "\n",
       "[5 rows x 116 columns]"
      ]
     },
     "execution_count": 142,
     "metadata": {},
     "output_type": "execute_result"
    }
   ],
   "source": [
    "invehicle_dummy.head()"
   ]
  },
  {
   "cell_type": "code",
   "execution_count": 143,
   "id": "ccadd830",
   "metadata": {},
   "outputs": [
    {
     "data": {
      "text/plain": [
       "(12684, 116)"
      ]
     },
     "execution_count": 143,
     "metadata": {},
     "output_type": "execute_result"
    }
   ],
   "source": [
    "invehicle_dummy.shape"
   ]
  },
  {
   "cell_type": "code",
   "execution_count": 144,
   "id": "f13436ee",
   "metadata": {},
   "outputs": [],
   "source": [
    "y=invehicle_dummy.Y\n",
    "x=invehicle_dummy.drop('Y',axis=1)"
   ]
  },
  {
   "cell_type": "code",
   "execution_count": 145,
   "id": "6a4240bd",
   "metadata": {},
   "outputs": [],
   "source": [
    "from sklearn.preprocessing import LabelEncoder"
   ]
  },
  {
   "cell_type": "code",
   "execution_count": 146,
   "id": "9d16d4dc",
   "metadata": {},
   "outputs": [],
   "source": [
    "y=LabelEncoder().fit_transform(y)"
   ]
  },
  {
   "cell_type": "code",
   "execution_count": 147,
   "id": "e9625e08",
   "metadata": {},
   "outputs": [],
   "source": [
    "from sklearn.model_selection import train_test_split"
   ]
  },
  {
   "cell_type": "code",
   "execution_count": 148,
   "id": "9adae17a",
   "metadata": {},
   "outputs": [],
   "source": [
    "x_train,x_test,y_train,y_test=train_test_split(x,y,\n",
    "                                               test_size=0.30,\n",
    "                                               random_state=42)"
   ]
  },
  {
   "cell_type": "code",
   "execution_count": 149,
   "id": "3424dce6",
   "metadata": {},
   "outputs": [
    {
     "data": {
      "text/plain": [
       "1    5053\n",
       "0    3825\n",
       "dtype: int64"
      ]
     },
     "execution_count": 149,
     "metadata": {},
     "output_type": "execute_result"
    }
   ],
   "source": [
    "pd.DataFrame(y_train).value_counts()"
   ]
  },
  {
   "cell_type": "code",
   "execution_count": 150,
   "id": "969ec6bd",
   "metadata": {},
   "outputs": [
    {
     "data": {
      "text/plain": [
       "1    2157\n",
       "0    1649\n",
       "dtype: int64"
      ]
     },
     "execution_count": 150,
     "metadata": {},
     "output_type": "execute_result"
    }
   ],
   "source": [
    "pd.DataFrame(y_test).value_counts()"
   ]
  },
  {
   "cell_type": "code",
   "execution_count": 151,
   "id": "601e2e26",
   "metadata": {},
   "outputs": [],
   "source": [
    "from sklearn.linear_model import LogisticRegression"
   ]
  },
  {
   "cell_type": "code",
   "execution_count": 152,
   "id": "a5ec3ec1",
   "metadata": {},
   "outputs": [],
   "source": [
    "logit=LogisticRegression()"
   ]
  },
  {
   "cell_type": "code",
   "execution_count": 153,
   "id": "9ac67148",
   "metadata": {},
   "outputs": [],
   "source": [
    "logitmodel=logit.fit(x_train,y_train)"
   ]
  },
  {
   "cell_type": "code",
   "execution_count": 154,
   "id": "47c86f86",
   "metadata": {},
   "outputs": [
    {
     "data": {
      "text/plain": [
       "0.6947510700608245"
      ]
     },
     "execution_count": 154,
     "metadata": {},
     "output_type": "execute_result"
    }
   ],
   "source": [
    "logitmodel.score(x_train,y_train)"
   ]
  },
  {
   "cell_type": "code",
   "execution_count": 155,
   "id": "abfc736f",
   "metadata": {},
   "outputs": [],
   "source": [
    "from sklearn.metrics import classification_report, RocCurveDisplay"
   ]
  },
  {
   "cell_type": "code",
   "execution_count": 156,
   "id": "7ad62da2",
   "metadata": {},
   "outputs": [
    {
     "name": "stdout",
     "output_type": "stream",
     "text": [
      "              precision    recall  f1-score   support\n",
      "\n",
      "           0       0.67      0.59      0.62      3825\n",
      "           1       0.71      0.78      0.74      5053\n",
      "\n",
      "    accuracy                           0.69      8878\n",
      "   macro avg       0.69      0.68      0.68      8878\n",
      "weighted avg       0.69      0.69      0.69      8878\n",
      "\n"
     ]
    }
   ],
   "source": [
    "print(classification_report(y_train,logitmodel.predict(x_train)))"
   ]
  },
  {
   "cell_type": "code",
   "execution_count": 157,
   "id": "0d39bcfc",
   "metadata": {},
   "outputs": [],
   "source": [
    "from sklearn.model_selection import cross_val_score"
   ]
  },
  {
   "cell_type": "code",
   "execution_count": 158,
   "id": "cc30d0b7",
   "metadata": {},
   "outputs": [
    {
     "data": {
      "text/plain": [
       "0.6843885928181703"
      ]
     },
     "execution_count": 158,
     "metadata": {},
     "output_type": "execute_result"
    }
   ],
   "source": [
    "np.mean(cross_val_score(logit,x_train,y_train))"
   ]
  },
  {
   "cell_type": "code",
   "execution_count": 159,
   "id": "bfb8c046",
   "metadata": {},
   "outputs": [
    {
     "data": {
      "text/plain": [
       "<sklearn.metrics._plot.roc_curve.RocCurveDisplay at 0x22a8e8de650>"
      ]
     },
     "execution_count": 159,
     "metadata": {},
     "output_type": "execute_result"
    },
    {
     "data": {
      "image/png": "[encoded data removed]",
      "text/plain": [
       "<Figure size 800x550 with 1 Axes>"
      ]
     },
     "metadata": {},
     "output_type": "display_data"
    }
   ],
   "source": [
    "RocCurveDisplay.from_predictions(y_train,logitmodel.predict(x_train))"
   ]
  },
  {
   "cell_type": "code",
   "execution_count": 160,
   "id": "a65a2eb5",
   "metadata": {},
   "outputs": [],
   "source": [
    "from sklearn.naive_bayes import CategoricalNB"
   ]
  },
  {
   "cell_type": "code",
   "execution_count": 161,
   "id": "644027eb",
   "metadata": {},
   "outputs": [],
   "source": [
    "nb=CategoricalNB()"
   ]
  },
  {
   "cell_type": "code",
   "execution_count": 162,
   "id": "96d3bc23",
   "metadata": {},
   "outputs": [],
   "source": [
    "nb_model=nb.fit(x_train,y_train)"
   ]
  },
  {
   "cell_type": "code",
   "execution_count": 163,
   "id": "468d9e53",
   "metadata": {},
   "outputs": [
    {
     "data": {
      "text/plain": [
       "0.6637756251407975"
      ]
     },
     "execution_count": 163,
     "metadata": {},
     "output_type": "execute_result"
    }
   ],
   "source": [
    "nb_model.score(x_train,y_train)"
   ]
  },
  {
   "cell_type": "code",
   "execution_count": 164,
   "id": "c57b8164",
   "metadata": {},
   "outputs": [
    {
     "data": {
      "text/plain": [
       "0.6590438396142622"
      ]
     },
     "execution_count": 164,
     "metadata": {},
     "output_type": "execute_result"
    }
   ],
   "source": [
    "np.mean(cross_val_score(nb,x_train,y_train))"
   ]
  },
  {
   "cell_type": "code",
   "execution_count": 165,
   "id": "9107efa2",
   "metadata": {},
   "outputs": [
    {
     "name": "stdout",
     "output_type": "stream",
     "text": [
      "              precision    recall  f1-score   support\n",
      "\n",
      "           0       0.62      0.57      0.60      3825\n",
      "           1       0.69      0.73      0.71      5053\n",
      "\n",
      "    accuracy                           0.66      8878\n",
      "   macro avg       0.66      0.65      0.65      8878\n",
      "weighted avg       0.66      0.66      0.66      8878\n",
      "\n"
     ]
    }
   ],
   "source": [
    "print(classification_report(y_train,nb_model.predict(x_train)))"
   ]
  },
  {
   "cell_type": "code",
   "execution_count": 166,
   "id": "b9219234",
   "metadata": {},
   "outputs": [
    {
     "data": {
      "text/plain": [
       "<sklearn.metrics._plot.roc_curve.RocCurveDisplay at 0x22a9bb86fe0>"
      ]
     },
     "execution_count": 166,
     "metadata": {},
     "output_type": "execute_result"
    },
    {
     "data": {
      "image/png": "[encoded data removed]",
      "text/plain": [
       "<Figure size 800x550 with 1 Axes>"
      ]
     },
     "metadata": {},
     "output_type": "display_data"
    }
   ],
   "source": [
    "RocCurveDisplay.from_predictions(y_train,nb_model.predict(x_train))"
   ]
  },
  {
   "cell_type": "code",
   "execution_count": 167,
   "id": "06984572",
   "metadata": {},
   "outputs": [],
   "source": [
    "from sklearn.tree import DecisionTreeClassifier"
   ]
  },
  {
   "cell_type": "code",
   "execution_count": 168,
   "id": "94e2d8bd",
   "metadata": {},
   "outputs": [],
   "source": [
    "dt=DecisionTreeClassifier(max_depth=6)"
   ]
  },
  {
   "cell_type": "code",
   "execution_count": 169,
   "id": "942f54d8",
   "metadata": {},
   "outputs": [],
   "source": [
    "dt_model=dt.fit(x_train,y_train)"
   ]
  },
  {
   "cell_type": "code",
   "execution_count": 170,
   "id": "99f48f85",
   "metadata": {},
   "outputs": [
    {
     "data": {
      "text/plain": [
       "0.7081549898625816"
      ]
     },
     "execution_count": 170,
     "metadata": {},
     "output_type": "execute_result"
    }
   ],
   "source": [
    "dt_model.score(x_train,y_train)"
   ]
  },
  {
   "cell_type": "code",
   "execution_count": 171,
   "id": "9dec4375",
   "metadata": {},
   "outputs": [
    {
     "data": {
      "text/plain": [
       "0.6936245400329908"
      ]
     },
     "execution_count": 171,
     "metadata": {},
     "output_type": "execute_result"
    }
   ],
   "source": [
    "np.mean(cross_val_score(dt,x_train,y_train))"
   ]
  },
  {
   "cell_type": "code",
   "execution_count": 172,
   "id": "b23ef216",
   "metadata": {},
   "outputs": [
    {
     "name": "stdout",
     "output_type": "stream",
     "text": [
      "              precision    recall  f1-score   support\n",
      "\n",
      "           0       0.66      0.66      0.66      3825\n",
      "           1       0.74      0.74      0.74      5053\n",
      "\n",
      "    accuracy                           0.71      8878\n",
      "   macro avg       0.70      0.70      0.70      8878\n",
      "weighted avg       0.71      0.71      0.71      8878\n",
      "\n"
     ]
    }
   ],
   "source": [
    "print(classification_report(y_train,dt_model.predict(x_train)))"
   ]
  },
  {
   "cell_type": "code",
   "execution_count": 173,
   "id": "73f37e65",
   "metadata": {},
   "outputs": [
    {
     "data": {
      "text/plain": [
       "<sklearn.metrics._plot.roc_curve.RocCurveDisplay at 0x22a9bdc2a40>"
      ]
     },
     "execution_count": 173,
     "metadata": {},
     "output_type": "execute_result"
    },
    {
     "data": {
      "image/png": "[encoded data removed]",
      "text/plain": [
       "<Figure size 800x550 with 1 Axes>"
      ]
     },
     "metadata": {},
     "output_type": "display_data"
    }
   ],
   "source": [
    "RocCurveDisplay.from_predictions(y_train,dt_model.predict(x_train))"
   ]
  },
  {
   "cell_type": "code",
   "execution_count": 174,
   "id": "d9470593",
   "metadata": {},
   "outputs": [],
   "source": [
    "from sklearn.ensemble import RandomForestClassifier"
   ]
  },
  {
   "cell_type": "code",
   "execution_count": 175,
   "id": "3938642f",
   "metadata": {},
   "outputs": [],
   "source": [
    "rf=RandomForestClassifier(n_estimators=1000,max_depth=6)"
   ]
  },
  {
   "cell_type": "code",
   "execution_count": 176,
   "id": "b29a2bff",
   "metadata": {},
   "outputs": [],
   "source": [
    "rf_model=rf.fit(x_train,y_train)"
   ]
  },
  {
   "cell_type": "code",
   "execution_count": 177,
   "id": "257f1ba0",
   "metadata": {},
   "outputs": [
    {
     "data": {
      "text/plain": [
       "0.7194187880153188"
      ]
     },
     "execution_count": 177,
     "metadata": {},
     "output_type": "execute_result"
    }
   ],
   "source": [
    "rf_model.score(x_train,y_train)"
   ]
  },
  {
   "cell_type": "code",
   "execution_count": 178,
   "id": "f124545a",
   "metadata": {},
   "outputs": [
    {
     "data": {
      "text/plain": [
       "0.6958772363913209"
      ]
     },
     "execution_count": 178,
     "metadata": {},
     "output_type": "execute_result"
    }
   ],
   "source": [
    "np.mean(cross_val_score(rf,x_train,y_train))"
   ]
  },
  {
   "cell_type": "code",
   "execution_count": 179,
   "id": "c02e9c38",
   "metadata": {},
   "outputs": [
    {
     "name": "stdout",
     "output_type": "stream",
     "text": [
      "              precision    recall  f1-score   support\n",
      "\n",
      "           0       0.78      0.49      0.60      3825\n",
      "           1       0.70      0.90      0.78      5053\n",
      "\n",
      "    accuracy                           0.72      8878\n",
      "   macro avg       0.74      0.69      0.69      8878\n",
      "weighted avg       0.73      0.72      0.70      8878\n",
      "\n"
     ]
    }
   ],
   "source": [
    "print(classification_report(y_train,rf_model.predict(x_train)))"
   ]
  },
  {
   "cell_type": "code",
   "execution_count": 180,
   "id": "17c2d320",
   "metadata": {},
   "outputs": [
    {
     "data": {
      "text/plain": [
       "<sklearn.metrics._plot.roc_curve.RocCurveDisplay at 0x22a9be771c0>"
      ]
     },
     "execution_count": 180,
     "metadata": {},
     "output_type": "execute_result"
    },
    {
     "data": {
      "image/png": "[encoded data removed]",
      "text/plain": [
       "<Figure size 800x550 with 1 Axes>"
      ]
     },
     "metadata": {},
     "output_type": "display_data"
    }
   ],
   "source": [
    "RocCurveDisplay.from_predictions(y_train,rf_model.predict(x_train))"
   ]
  },
  {
   "cell_type": "code",
   "execution_count": 181,
   "id": "d88ea0d0",
   "metadata": {},
   "outputs": [],
   "source": [
    "from sklearn.ensemble import GradientBoostingClassifier"
   ]
  },
  {
   "cell_type": "code",
   "execution_count": 182,
   "id": "e8130ab0",
   "metadata": {},
   "outputs": [],
   "source": [
    "gbm=GradientBoostingClassifier(n_estimators=5000)"
   ]
  },
  {
   "cell_type": "code",
   "execution_count": 183,
   "id": "f0cbffa5",
   "metadata": {},
   "outputs": [],
   "source": [
    "gbmmodel=gbm.fit(x_train,y_train)"
   ]
  },
  {
   "cell_type": "code",
   "execution_count": 184,
   "id": "c3c5baa8",
   "metadata": {},
   "outputs": [
    {
     "data": {
      "text/plain": [
       "0.9276864158594278"
      ]
     },
     "execution_count": 184,
     "metadata": {},
     "output_type": "execute_result"
    }
   ],
   "source": [
    "gbmmodel.score(x_train,y_train)"
   ]
  },
  {
   "cell_type": "code",
   "execution_count": 185,
   "id": "2ef06d4a",
   "metadata": {},
   "outputs": [],
   "source": [
    "gbm_test_pred=gbmmodel.predict(x_test)"
   ]
  },
  {
   "cell_type": "code",
   "execution_count": 186,
   "id": "fefe6dfc",
   "metadata": {},
   "outputs": [
    {
     "data": {
      "text/html": [
       "<div>\n",
       "<style scoped>\n",
       "    .dataframe tbody tr th:only-of-type {\n",
       "        vertical-align: middle;\n",
       "    }\n",
       "\n",
       "    .dataframe tbody tr th {\n",
       "        vertical-align: top;\n",
       "    }\n",
       "\n",
       "    .dataframe thead th {\n",
       "        text-align: right;\n",
       "    }\n",
       "</style>\n",
       "<table border=\"1\" class=\"dataframe\">\n",
       "  <thead>\n",
       "    <tr style=\"text-align: right;\">\n",
       "      <th>col_0</th>\n",
       "      <th>0</th>\n",
       "      <th>1</th>\n",
       "    </tr>\n",
       "    <tr>\n",
       "      <th>row_0</th>\n",
       "      <th></th>\n",
       "      <th></th>\n",
       "    </tr>\n",
       "  </thead>\n",
       "  <tbody>\n",
       "    <tr>\n",
       "      <th>0</th>\n",
       "      <td>1137</td>\n",
       "      <td>512</td>\n",
       "    </tr>\n",
       "    <tr>\n",
       "      <th>1</th>\n",
       "      <td>427</td>\n",
       "      <td>1730</td>\n",
       "    </tr>\n",
       "  </tbody>\n",
       "</table>\n",
       "</div>"
      ],
      "text/plain": [
       "col_0     0     1\n",
       "row_0            \n",
       "0      1137   512\n",
       "1       427  1730"
      ]
     },
     "execution_count": 186,
     "metadata": {},
     "output_type": "execute_result"
    }
   ],
   "source": [
    "pd.crosstab(y_test,gbm_test_pred)"
   ]
  },
  {
   "cell_type": "code",
   "execution_count": 187,
   "id": "ba0a19cb",
   "metadata": {},
   "outputs": [],
   "source": [
    "log_pred=logitmodel.predict(x_test)\n",
    "nb_pred=nb_model.predict(x_test)\n",
    "dt_pred=dt_model.predict(x_test)\n",
    "rf_pred=rf_model.predict(x_test)\n",
    "gb_pred=gbmmodel.predict(x_test)"
   ]
  },
  {
   "cell_type": "code",
   "execution_count": 188,
   "id": "baffcff3",
   "metadata": {},
   "outputs": [],
   "source": [
    "pred=[log_pred,nb_pred,dt_pred,rf_pred,gb_pred]"
   ]
  },
  {
   "cell_type": "code",
   "execution_count": 189,
   "id": "134e2b6d",
   "metadata": {},
   "outputs": [],
   "source": [
    "al=[logit,nb,dt,rf,gbm]"
   ]
  },
  {
   "cell_type": "code",
   "execution_count": 190,
   "id": "ef2df73b",
   "metadata": {},
   "outputs": [],
   "source": [
    "model=[logitmodel,nb_model,dt_model,rf_model,gbmmodel]"
   ]
  },
  {
   "cell_type": "code",
   "execution_count": 191,
   "id": "8b62684f",
   "metadata": {},
   "outputs": [
    {
     "name": "stdout",
     "output_type": "stream",
     "text": [
      "0.6947510700608245\n",
      "0.6637756251407975\n",
      "0.7081549898625816\n",
      "0.7194187880153188\n",
      "0.9276864158594278\n"
     ]
    }
   ],
   "source": [
    "j=0\n",
    "for i in model:\n",
    "    print((i.score(x_train,y_train)))"
   ]
  },
  {
   "cell_type": "code",
   "execution_count": 192,
   "id": "488a5237",
   "metadata": {},
   "outputs": [
    {
     "name": "stdout",
     "output_type": "stream",
     "text": [
      "Logistic Regresssion\n",
      "              precision    recall  f1-score   support\n",
      "\n",
      "           0       0.66      0.57      0.61      1649\n",
      "           1       0.70      0.78      0.74      2157\n",
      "\n",
      "    accuracy                           0.69      3806\n",
      "   macro avg       0.68      0.67      0.68      3806\n",
      "weighted avg       0.69      0.69      0.68      3806\n",
      "\n",
      "Naive Bayes\n",
      "              precision    recall  f1-score   support\n",
      "\n",
      "           0       0.61      0.56      0.59      1649\n",
      "           1       0.68      0.73      0.71      2157\n",
      "\n",
      "    accuracy                           0.66      3806\n",
      "   macro avg       0.65      0.64      0.65      3806\n",
      "weighted avg       0.65      0.66      0.65      3806\n",
      "\n",
      "Decision Tree\n",
      "              precision    recall  f1-score   support\n",
      "\n",
      "           0       0.65      0.65      0.65      1649\n",
      "           1       0.73      0.73      0.73      2157\n",
      "\n",
      "    accuracy                           0.70      3806\n",
      "   macro avg       0.69      0.69      0.69      3806\n",
      "weighted avg       0.70      0.70      0.70      3806\n",
      "\n",
      "Random Forest\n",
      "              precision    recall  f1-score   support\n",
      "\n",
      "           0       0.74      0.46      0.57      1649\n",
      "           1       0.68      0.88      0.77      2157\n",
      "\n",
      "    accuracy                           0.70      3806\n",
      "   macro avg       0.71      0.67      0.67      3806\n",
      "weighted avg       0.71      0.70      0.68      3806\n",
      "\n",
      "Gradient Boosting\n",
      "              precision    recall  f1-score   support\n",
      "\n",
      "           0       0.73      0.69      0.71      1649\n",
      "           1       0.77      0.80      0.79      2157\n",
      "\n",
      "    accuracy                           0.75      3806\n",
      "   macro avg       0.75      0.75      0.75      3806\n",
      "weighted avg       0.75      0.75      0.75      3806\n",
      "\n"
     ]
    }
   ],
   "source": [
    "print('Logistic Regresssion')\n",
    "print(classification_report(y_test,log_pred))\n",
    "print('Naive Bayes')\n",
    "print(classification_report(y_test,nb_pred))\n",
    "print('Decision Tree')\n",
    "print(classification_report(y_test,dt_pred))\n",
    "print('Random Forest')\n",
    "print(classification_report(y_test,rf_pred))\n",
    "print('Gradient Boosting')\n",
    "print(classification_report(y_test,gb_pred))"
   ]
  },
  {
   "cell_type": "code",
   "execution_count": 193,
   "id": "3e78d433",
   "metadata": {},
   "outputs": [
    {
     "name": "stdout",
     "output_type": "stream",
     "text": [
      "Requirement already satisfied: pycaret in c:\\users\\sande\\anaconda3\\lib\\site-packages (3.0.2)\n",
      "Requirement already satisfied: tqdm>=4.62.0 in c:\\users\\sande\\anaconda3\\lib\\site-packages (from pycaret) (4.64.1)\n",
      "Requirement already satisfied: jinja2>=1.2 in c:\\users\\sande\\anaconda3\\lib\\site-packages (from pycaret) (3.1.2)\n",
      "Requirement already satisfied: cloudpickle in c:\\users\\sande\\anaconda3\\lib\\site-packages (from pycaret) (2.0.0)\n",
      "Requirement already satisfied: psutil>=5.9.0 in c:\\users\\sande\\anaconda3\\lib\\site-packages (from pycaret) (5.9.0)\n",
      "Requirement already satisfied: pandas<2.0.0,>=1.3.0 in c:\\users\\sande\\anaconda3\\lib\\site-packages (from pycaret) (1.5.3)\n",
      "Requirement already satisfied: imbalanced-learn>=0.8.1 in c:\\users\\sande\\anaconda3\\lib\\site-packages (from pycaret) (0.10.1)\n",
      "Requirement already satisfied: matplotlib>=3.3.0 in c:\\users\\sande\\anaconda3\\lib\\site-packages (from pycaret) (3.7.0)\n",
      "Requirement already satisfied: nbformat>=4.2.0 in c:\\users\\sande\\anaconda3\\lib\\site-packages (from pycaret) (5.7.0)\n",
      "Requirement already satisfied: importlib-metadata>=4.12.0 in c:\\users\\sande\\anaconda3\\lib\\site-packages (from pycaret) (6.6.0)\n",
      "Requirement already satisfied: lightgbm>=3.0.0 in c:\\users\\sande\\anaconda3\\lib\\site-packages (from pycaret) (3.3.5)\n",
      "Requirement already satisfied: scikit-plot>=0.3.7 in c:\\users\\sande\\anaconda3\\lib\\site-packages (from pycaret) (0.3.7)\n",
      "Requirement already satisfied: statsmodels>=0.12.1 in c:\\users\\sande\\anaconda3\\lib\\site-packages (from pycaret) (0.13.5)\n",
      "Requirement already satisfied: plotly>=5.0.0 in c:\\users\\sande\\anaconda3\\lib\\site-packages (from pycaret) (5.9.0)\n",
      "Requirement already satisfied: plotly-resampler>=0.8.3.1 in c:\\users\\sande\\anaconda3\\lib\\site-packages (from pycaret) (0.8.3.2)\n",
      "Requirement already satisfied: sktime!=0.17.1,<0.17.2,>=0.16.1 in c:\\users\\sande\\anaconda3\\lib\\site-packages (from pycaret) (0.17.0)\n",
      "Requirement already satisfied: markupsafe>=2.0.1 in c:\\users\\sande\\anaconda3\\lib\\site-packages (from pycaret) (2.1.1)\n",
      "Requirement already satisfied: scipy<2.0.0 in c:\\users\\sande\\anaconda3\\lib\\site-packages (from pycaret) (1.10.0)\n",
      "Requirement already satisfied: numba>=0.55.0 in c:\\users\\sande\\anaconda3\\lib\\site-packages (from pycaret) (0.56.4)\n",
      "Requirement already satisfied: yellowbrick>=1.4 in c:\\users\\sande\\anaconda3\\lib\\site-packages (from pycaret) (1.5)\n",
      "Requirement already satisfied: pyod>=1.0.8 in c:\\users\\sande\\anaconda3\\lib\\site-packages (from pycaret) (1.0.9)\n",
      "Requirement already satisfied: schemdraw==0.15 in c:\\users\\sande\\anaconda3\\lib\\site-packages (from pycaret) (0.15)\n",
      "Requirement already satisfied: category-encoders>=2.4.0 in c:\\users\\sande\\anaconda3\\lib\\site-packages (from pycaret) (2.6.1)\n",
      "Requirement already satisfied: pmdarima!=1.8.1,<3.0.0,>=1.8.0 in c:\\users\\sande\\anaconda3\\lib\\site-packages (from pycaret) (2.0.3)\n",
      "Requirement already satisfied: joblib>=1.2.0 in c:\\users\\sande\\anaconda3\\lib\\site-packages (from pycaret) (1.3.2)\n",
      "Requirement already satisfied: ipywidgets>=7.6.5 in c:\\users\\sande\\anaconda3\\lib\\site-packages (from pycaret) (7.6.5)\n",
      "Requirement already satisfied: requests>=2.27.1 in c:\\users\\sande\\anaconda3\\lib\\site-packages (from pycaret) (2.28.1)\n",
      "Requirement already satisfied: xxhash in c:\\users\\sande\\anaconda3\\lib\\site-packages (from pycaret) (3.2.0)\n",
      "Requirement already satisfied: tbats>=1.1.3 in c:\\users\\sande\\anaconda3\\lib\\site-packages (from pycaret) (1.1.3)\n",
      "Requirement already satisfied: deprecation>=2.1.0 in c:\\users\\sande\\anaconda3\\lib\\site-packages (from pycaret) (2.1.0)\n",
      "Requirement already satisfied: kaleido>=0.2.1 in c:\\users\\sande\\anaconda3\\lib\\site-packages (from pycaret) (0.2.1)\n",
      "Requirement already satisfied: scikit-learn>=1.0 in c:\\users\\sande\\anaconda3\\lib\\site-packages (from pycaret) (1.2.1)\n",
      "Requirement already satisfied: ipython>=5.5.0 in c:\\users\\sande\\anaconda3\\lib\\site-packages (from pycaret) (8.10.0)\n",
      "Requirement already satisfied: numpy<1.24,>=1.21 in c:\\users\\sande\\anaconda3\\lib\\site-packages (from pycaret) (1.23.5)\n",
      "Requirement already satisfied: patsy>=0.5.1 in c:\\users\\sande\\anaconda3\\lib\\site-packages (from category-encoders>=2.4.0->pycaret) (0.5.3)\n",
      "Requirement already satisfied: packaging in c:\\users\\sande\\anaconda3\\lib\\site-packages (from deprecation>=2.1.0->pycaret) (22.0)\n",
      "Requirement already satisfied: threadpoolctl>=2.0.0 in c:\\users\\sande\\anaconda3\\lib\\site-packages (from imbalanced-learn>=0.8.1->pycaret) (2.2.0)\n",
      "Requirement already satisfied: zipp>=0.5 in c:\\users\\sande\\anaconda3\\lib\\site-packages (from importlib-metadata>=4.12.0->pycaret) (3.11.0)\n",
      "Requirement already satisfied: backcall in c:\\users\\sande\\anaconda3\\lib\\site-packages (from ipython>=5.5.0->pycaret) (0.2.0)\n",
      "Requirement already satisfied: pygments>=2.4.0 in c:\\users\\sande\\anaconda3\\lib\\site-packages (from ipython>=5.5.0->pycaret) (2.16.1)\n",
      "Requirement already satisfied: stack-data in c:\\users\\sande\\anaconda3\\lib\\site-packages (from ipython>=5.5.0->pycaret) (0.2.0)\n",
      "Requirement already satisfied: prompt-toolkit<3.1.0,>=3.0.30 in c:\\users\\sande\\anaconda3\\lib\\site-packages (from ipython>=5.5.0->pycaret) (3.0.36)\n",
      "Requirement already satisfied: decorator in c:\\users\\sande\\anaconda3\\lib\\site-packages (from ipython>=5.5.0->pycaret) (5.1.1)\n",
      "Requirement already satisfied: colorama in c:\\users\\sande\\anaconda3\\lib\\site-packages (from ipython>=5.5.0->pycaret) (0.4.6)\n",
      "Requirement already satisfied: matplotlib-inline in c:\\users\\sande\\anaconda3\\lib\\site-packages (from ipython>=5.5.0->pycaret) (0.1.6)\n",
      "Requirement already satisfied: pickleshare in c:\\users\\sande\\anaconda3\\lib\\site-packages (from ipython>=5.5.0->pycaret) (0.7.5)\n",
      "Requirement already satisfied: traitlets>=5 in c:\\users\\sande\\anaconda3\\lib\\site-packages (from ipython>=5.5.0->pycaret) (5.7.1)\n",
      "Requirement already satisfied: jedi>=0.16 in c:\\users\\sande\\anaconda3\\lib\\site-packages (from ipython>=5.5.0->pycaret) (0.18.1)\n",
      "Requirement already satisfied: ipykernel>=4.5.1 in c:\\users\\sande\\anaconda3\\lib\\site-packages (from ipywidgets>=7.6.5->pycaret) (6.19.2)\n",
      "Requirement already satisfied: widgetsnbextension~=3.5.0 in c:\\users\\sande\\anaconda3\\lib\\site-packages (from ipywidgets>=7.6.5->pycaret) (3.5.2)\n",
      "Requirement already satisfied: jupyterlab-widgets>=1.0.0 in c:\\users\\sande\\anaconda3\\lib\\site-packages (from ipywidgets>=7.6.5->pycaret) (1.0.0)\n",
      "Requirement already satisfied: ipython-genutils~=0.2.0 in c:\\users\\sande\\anaconda3\\lib\\site-packages (from ipywidgets>=7.6.5->pycaret) (0.2.0)\n",
      "Requirement already satisfied: wheel in c:\\users\\sande\\anaconda3\\lib\\site-packages (from lightgbm>=3.0.0->pycaret) (0.38.4)\n",
      "Requirement already satisfied: python-dateutil>=2.7 in c:\\users\\sande\\anaconda3\\lib\\site-packages (from matplotlib>=3.3.0->pycaret) (2.8.2)\n",
      "Requirement already satisfied: pillow>=6.2.0 in c:\\users\\sande\\anaconda3\\lib\\site-packages (from matplotlib>=3.3.0->pycaret) (9.4.0)\n",
      "Requirement already satisfied: cycler>=0.10 in c:\\users\\sande\\anaconda3\\lib\\site-packages (from matplotlib>=3.3.0->pycaret) (0.11.0)\n",
      "Requirement already satisfied: pyparsing>=2.3.1 in c:\\users\\sande\\anaconda3\\lib\\site-packages (from matplotlib>=3.3.0->pycaret) (3.0.9)\n",
      "Requirement already satisfied: fonttools>=4.22.0 in c:\\users\\sande\\anaconda3\\lib\\site-packages (from matplotlib>=3.3.0->pycaret) (4.25.0)\n",
      "Requirement already satisfied: kiwisolver>=1.0.1 in c:\\users\\sande\\anaconda3\\lib\\site-packages (from matplotlib>=3.3.0->pycaret) (1.4.4)\n",
      "Requirement already satisfied: contourpy>=1.0.1 in c:\\users\\sande\\anaconda3\\lib\\site-packages (from matplotlib>=3.3.0->pycaret) (1.0.5)\n",
      "Requirement already satisfied: jupyter-core in c:\\users\\sande\\anaconda3\\lib\\site-packages (from nbformat>=4.2.0->pycaret) (5.2.0)\n",
      "Requirement already satisfied: fastjsonschema in c:\\users\\sande\\anaconda3\\lib\\site-packages (from nbformat>=4.2.0->pycaret) (2.16.2)\n",
      "Requirement already satisfied: jsonschema>=2.6 in c:\\users\\sande\\anaconda3\\lib\\site-packages (from nbformat>=4.2.0->pycaret) (4.17.3)\n",
      "Requirement already satisfied: llvmlite<0.40,>=0.39.0dev0 in c:\\users\\sande\\anaconda3\\lib\\site-packages (from numba>=0.55.0->pycaret) (0.39.1)\n",
      "Requirement already satisfied: setuptools in c:\\users\\sande\\anaconda3\\lib\\site-packages (from numba>=0.55.0->pycaret) (65.6.3)\n",
      "Requirement already satisfied: pytz>=2020.1 in c:\\users\\sande\\anaconda3\\lib\\site-packages (from pandas<2.0.0,>=1.3.0->pycaret) (2022.7)\n",
      "Requirement already satisfied: tenacity>=6.2.0 in c:\\users\\sande\\anaconda3\\lib\\site-packages (from plotly>=5.0.0->pycaret) (8.0.1)\n",
      "Requirement already satisfied: orjson<4.0.0,>=3.8.0 in c:\\users\\sande\\anaconda3\\lib\\site-packages (from plotly-resampler>=0.8.3.1->pycaret) (3.8.14)\n",
      "Requirement already satisfied: jupyter-dash>=0.4.2 in c:\\users\\sande\\anaconda3\\lib\\site-packages (from plotly-resampler>=0.8.3.1->pycaret) (0.4.2)\n",
      "Requirement already satisfied: dash<3.0.0,>=2.2.0 in c:\\users\\sande\\anaconda3\\lib\\site-packages (from plotly-resampler>=0.8.3.1->pycaret) (2.10.0)\n",
      "Requirement already satisfied: trace-updater>=0.0.8 in c:\\users\\sande\\anaconda3\\lib\\site-packages (from plotly-resampler>=0.8.3.1->pycaret) (0.0.9.1)\n",
      "Requirement already satisfied: Cython!=0.29.18,!=0.29.31,>=0.29 in c:\\users\\sande\\anaconda3\\lib\\site-packages (from pmdarima!=1.8.1,<3.0.0,>=1.8.0->pycaret) (0.29.35)\n",
      "Requirement already satisfied: urllib3 in c:\\users\\sande\\anaconda3\\lib\\site-packages (from pmdarima!=1.8.1,<3.0.0,>=1.8.0->pycaret) (1.26.14)\n",
      "Requirement already satisfied: six in c:\\users\\sande\\anaconda3\\lib\\site-packages (from pyod>=1.0.8->pycaret) (1.16.0)\n",
      "Requirement already satisfied: idna<4,>=2.5 in c:\\users\\sande\\anaconda3\\lib\\site-packages (from requests>=2.27.1->pycaret) (3.4)\n",
      "Requirement already satisfied: charset-normalizer<3,>=2 in c:\\users\\sande\\anaconda3\\lib\\site-packages (from requests>=2.27.1->pycaret) (2.0.4)\n",
      "Requirement already satisfied: certifi>=2017.4.17 in c:\\users\\sande\\anaconda3\\lib\\site-packages (from requests>=2.27.1->pycaret) (2023.7.22)\n",
      "Requirement already satisfied: deprecated>=1.2.13 in c:\\users\\sande\\anaconda3\\lib\\site-packages (from sktime!=0.17.1,<0.17.2,>=0.16.1->pycaret) (1.2.13)\n",
      "Requirement already satisfied: dash-table==5.0.0 in c:\\users\\sande\\anaconda3\\lib\\site-packages (from dash<3.0.0,>=2.2.0->plotly-resampler>=0.8.3.1->pycaret) (5.0.0)\n",
      "Requirement already satisfied: Werkzeug<=2.2.3 in c:\\users\\sande\\anaconda3\\lib\\site-packages (from dash<3.0.0,>=2.2.0->plotly-resampler>=0.8.3.1->pycaret) (2.2.2)\n",
      "Requirement already satisfied: dash-html-components==2.0.0 in c:\\users\\sande\\anaconda3\\lib\\site-packages (from dash<3.0.0,>=2.2.0->plotly-resampler>=0.8.3.1->pycaret) (2.0.0)\n",
      "Requirement already satisfied: dash-core-components==2.0.0 in c:\\users\\sande\\anaconda3\\lib\\site-packages (from dash<3.0.0,>=2.2.0->plotly-resampler>=0.8.3.1->pycaret) (2.0.0)\n",
      "Requirement already satisfied: Flask<=2.2.3,>=1.0.4 in c:\\users\\sande\\anaconda3\\lib\\site-packages (from dash<3.0.0,>=2.2.0->plotly-resampler>=0.8.3.1->pycaret) (2.2.2)\n",
      "Requirement already satisfied: wrapt<2,>=1.10 in c:\\users\\sande\\anaconda3\\lib\\site-packages (from deprecated>=1.2.13->sktime!=0.17.1,<0.17.2,>=0.16.1->pycaret) (1.14.1)\n",
      "Requirement already satisfied: nest-asyncio in c:\\users\\sande\\anaconda3\\lib\\site-packages (from ipykernel>=4.5.1->ipywidgets>=7.6.5->pycaret) (1.5.6)\n",
      "Requirement already satisfied: debugpy>=1.0 in c:\\users\\sande\\anaconda3\\lib\\site-packages (from ipykernel>=4.5.1->ipywidgets>=7.6.5->pycaret) (1.5.1)\n",
      "Requirement already satisfied: pyzmq>=17 in c:\\users\\sande\\anaconda3\\lib\\site-packages (from ipykernel>=4.5.1->ipywidgets>=7.6.5->pycaret) (23.2.0)\n",
      "Requirement already satisfied: tornado>=6.1 in c:\\users\\sande\\anaconda3\\lib\\site-packages (from ipykernel>=4.5.1->ipywidgets>=7.6.5->pycaret) (6.1)\n",
      "Requirement already satisfied: comm>=0.1.1 in c:\\users\\sande\\anaconda3\\lib\\site-packages (from ipykernel>=4.5.1->ipywidgets>=7.6.5->pycaret) (0.1.2)\n",
      "Requirement already satisfied: jupyter-client>=6.1.12 in c:\\users\\sande\\anaconda3\\lib\\site-packages (from ipykernel>=4.5.1->ipywidgets>=7.6.5->pycaret) (7.3.4)\n",
      "Requirement already satisfied: parso<0.9.0,>=0.8.0 in c:\\users\\sande\\anaconda3\\lib\\site-packages (from jedi>=0.16->ipython>=5.5.0->pycaret) (0.8.3)\n",
      "Requirement already satisfied: pyrsistent!=0.17.0,!=0.17.1,!=0.17.2,>=0.14.0 in c:\\users\\sande\\anaconda3\\lib\\site-packages (from jsonschema>=2.6->nbformat>=4.2.0->pycaret) (0.18.0)\n",
      "Requirement already satisfied: attrs>=17.4.0 in c:\\users\\sande\\anaconda3\\lib\\site-packages (from jsonschema>=2.6->nbformat>=4.2.0->pycaret) (22.1.0)\n",
      "Requirement already satisfied: ansi2html in c:\\users\\sande\\anaconda3\\lib\\site-packages (from jupyter-dash>=0.4.2->plotly-resampler>=0.8.3.1->pycaret) (1.8.0)\n",
      "Requirement already satisfied: retrying in c:\\users\\sande\\anaconda3\\lib\\site-packages (from jupyter-dash>=0.4.2->plotly-resampler>=0.8.3.1->pycaret) (1.3.4)\n",
      "Requirement already satisfied: wcwidth in c:\\users\\sande\\anaconda3\\lib\\site-packages (from prompt-toolkit<3.1.0,>=3.0.30->ipython>=5.5.0->pycaret) (0.2.5)\n",
      "Requirement already satisfied: notebook>=4.4.1 in c:\\users\\sande\\anaconda3\\lib\\site-packages (from widgetsnbextension~=3.5.0->ipywidgets>=7.6.5->pycaret) (6.5.2)\n",
      "Requirement already satisfied: platformdirs>=2.5 in c:\\users\\sande\\anaconda3\\lib\\site-packages (from jupyter-core->nbformat>=4.2.0->pycaret) (2.5.2)\n",
      "Requirement already satisfied: pywin32>=1.0 in c:\\users\\sande\\anaconda3\\lib\\site-packages (from jupyter-core->nbformat>=4.2.0->pycaret) (305.1)\n",
      "Requirement already satisfied: asttokens in c:\\users\\sande\\anaconda3\\lib\\site-packages (from stack-data->ipython>=5.5.0->pycaret) (2.0.5)\n",
      "Requirement already satisfied: executing in c:\\users\\sande\\anaconda3\\lib\\site-packages (from stack-data->ipython>=5.5.0->pycaret) (0.8.3)\n",
      "Requirement already satisfied: pure-eval in c:\\users\\sande\\anaconda3\\lib\\site-packages (from stack-data->ipython>=5.5.0->pycaret) (0.2.2)\n",
      "Requirement already satisfied: itsdangerous>=2.0 in c:\\users\\sande\\anaconda3\\lib\\site-packages (from Flask<=2.2.3,>=1.0.4->dash<3.0.0,>=2.2.0->plotly-resampler>=0.8.3.1->pycaret) (2.0.1)\n",
      "Requirement already satisfied: click>=8.0 in c:\\users\\sande\\anaconda3\\lib\\site-packages (from Flask<=2.2.3,>=1.0.4->dash<3.0.0,>=2.2.0->plotly-resampler>=0.8.3.1->pycaret) (8.0.4)\n",
      "Requirement already satisfied: entrypoints in c:\\users\\sande\\anaconda3\\lib\\site-packages (from jupyter-client>=6.1.12->ipykernel>=4.5.1->ipywidgets>=7.6.5->pycaret) (0.4)\n",
      "Requirement already satisfied: nbconvert>=5 in c:\\users\\sande\\anaconda3\\lib\\site-packages (from notebook>=4.4.1->widgetsnbextension~=3.5.0->ipywidgets>=7.6.5->pycaret) (6.5.4)\n",
      "Requirement already satisfied: terminado>=0.8.3 in c:\\users\\sande\\anaconda3\\lib\\site-packages (from notebook>=4.4.1->widgetsnbextension~=3.5.0->ipywidgets>=7.6.5->pycaret) (0.17.1)\n",
      "Requirement already satisfied: nbclassic>=0.4.7 in c:\\users\\sande\\anaconda3\\lib\\site-packages (from notebook>=4.4.1->widgetsnbextension~=3.5.0->ipywidgets>=7.6.5->pycaret) (0.5.2)\n",
      "Requirement already satisfied: Send2Trash>=1.8.0 in c:\\users\\sande\\anaconda3\\lib\\site-packages (from notebook>=4.4.1->widgetsnbextension~=3.5.0->ipywidgets>=7.6.5->pycaret) (1.8.0)\n",
      "Requirement already satisfied: argon2-cffi in c:\\users\\sande\\anaconda3\\lib\\site-packages (from notebook>=4.4.1->widgetsnbextension~=3.5.0->ipywidgets>=7.6.5->pycaret) (21.3.0)\n",
      "Requirement already satisfied: prometheus-client in c:\\users\\sande\\anaconda3\\lib\\site-packages (from notebook>=4.4.1->widgetsnbextension~=3.5.0->ipywidgets>=7.6.5->pycaret) (0.14.1)\n",
      "Requirement already satisfied: jupyter-server>=1.8 in c:\\users\\sande\\anaconda3\\lib\\site-packages (from nbclassic>=0.4.7->notebook>=4.4.1->widgetsnbextension~=3.5.0->ipywidgets>=7.6.5->pycaret) (1.23.4)\n",
      "Requirement already satisfied: notebook-shim>=0.1.0 in c:\\users\\sande\\anaconda3\\lib\\site-packages (from nbclassic>=0.4.7->notebook>=4.4.1->widgetsnbextension~=3.5.0->ipywidgets>=7.6.5->pycaret) (0.2.2)\n",
      "Requirement already satisfied: pandocfilters>=1.4.1 in c:\\users\\sande\\anaconda3\\lib\\site-packages (from nbconvert>=5->notebook>=4.4.1->widgetsnbextension~=3.5.0->ipywidgets>=7.6.5->pycaret) (1.5.0)\n",
      "Requirement already satisfied: bleach in c:\\users\\sande\\anaconda3\\lib\\site-packages (from nbconvert>=5->notebook>=4.4.1->widgetsnbextension~=3.5.0->ipywidgets>=7.6.5->pycaret) (4.1.0)\n",
      "Requirement already satisfied: tinycss2 in c:\\users\\sande\\anaconda3\\lib\\site-packages (from nbconvert>=5->notebook>=4.4.1->widgetsnbextension~=3.5.0->ipywidgets>=7.6.5->pycaret) (1.2.1)\n",
      "Requirement already satisfied: lxml in c:\\users\\sande\\anaconda3\\lib\\site-packages (from nbconvert>=5->notebook>=4.4.1->widgetsnbextension~=3.5.0->ipywidgets>=7.6.5->pycaret) (4.9.1)\n",
      "Requirement already satisfied: jupyterlab-pygments in c:\\users\\sande\\anaconda3\\lib\\site-packages (from nbconvert>=5->notebook>=4.4.1->widgetsnbextension~=3.5.0->ipywidgets>=7.6.5->pycaret) (0.1.2)\n",
      "Requirement already satisfied: nbclient>=0.5.0 in c:\\users\\sande\\anaconda3\\lib\\site-packages (from nbconvert>=5->notebook>=4.4.1->widgetsnbextension~=3.5.0->ipywidgets>=7.6.5->pycaret) (0.5.13)\n",
      "Requirement already satisfied: mistune<2,>=0.8.1 in c:\\users\\sande\\anaconda3\\lib\\site-packages (from nbconvert>=5->notebook>=4.4.1->widgetsnbextension~=3.5.0->ipywidgets>=7.6.5->pycaret) (0.8.4)\n",
      "Requirement already satisfied: defusedxml in c:\\users\\sande\\anaconda3\\lib\\site-packages (from nbconvert>=5->notebook>=4.4.1->widgetsnbextension~=3.5.0->ipywidgets>=7.6.5->pycaret) (0.7.1)\n",
      "Requirement already satisfied: beautifulsoup4 in c:\\users\\sande\\anaconda3\\lib\\site-packages (from nbconvert>=5->notebook>=4.4.1->widgetsnbextension~=3.5.0->ipywidgets>=7.6.5->pycaret) (4.11.1)\n",
      "Requirement already satisfied: pywinpty>=1.1.0 in c:\\users\\sande\\anaconda3\\lib\\site-packages (from terminado>=0.8.3->notebook>=4.4.1->widgetsnbextension~=3.5.0->ipywidgets>=7.6.5->pycaret) (2.0.10)\n",
      "Requirement already satisfied: argon2-cffi-bindings in c:\\users\\sande\\anaconda3\\lib\\site-packages (from argon2-cffi->notebook>=4.4.1->widgetsnbextension~=3.5.0->ipywidgets>=7.6.5->pycaret) (21.2.0)\n",
      "Requirement already satisfied: websocket-client in c:\\users\\sande\\anaconda3\\lib\\site-packages (from jupyter-server>=1.8->nbclassic>=0.4.7->notebook>=4.4.1->widgetsnbextension~=3.5.0->ipywidgets>=7.6.5->pycaret) (0.58.0)\n",
      "Requirement already satisfied: anyio<4,>=3.1.0 in c:\\users\\sande\\anaconda3\\lib\\site-packages (from jupyter-server>=1.8->nbclassic>=0.4.7->notebook>=4.4.1->widgetsnbextension~=3.5.0->ipywidgets>=7.6.5->pycaret) (3.5.0)\n",
      "Requirement already satisfied: cffi>=1.0.1 in c:\\users\\sande\\anaconda3\\lib\\site-packages (from argon2-cffi-bindings->argon2-cffi->notebook>=4.4.1->widgetsnbextension~=3.5.0->ipywidgets>=7.6.5->pycaret) (1.15.1)\n",
      "Requirement already satisfied: soupsieve>1.2 in c:\\users\\sande\\anaconda3\\lib\\site-packages (from beautifulsoup4->nbconvert>=5->notebook>=4.4.1->widgetsnbextension~=3.5.0->ipywidgets>=7.6.5->pycaret) (2.3.2.post1)\n",
      "Requirement already satisfied: webencodings in c:\\users\\sande\\anaconda3\\lib\\site-packages (from bleach->nbconvert>=5->notebook>=4.4.1->widgetsnbextension~=3.5.0->ipywidgets>=7.6.5->pycaret) (0.5.1)\n",
      "Requirement already satisfied: sniffio>=1.1 in c:\\users\\sande\\anaconda3\\lib\\site-packages (from anyio<4,>=3.1.0->jupyter-server>=1.8->nbclassic>=0.4.7->notebook>=4.4.1->widgetsnbextension~=3.5.0->ipywidgets>=7.6.5->pycaret) (1.2.0)\n",
      "Requirement already satisfied: pycparser in c:\\users\\sande\\anaconda3\\lib\\site-packages (from cffi>=1.0.1->argon2-cffi-bindings->argon2-cffi->notebook>=4.4.1->widgetsnbextension~=3.5.0->ipywidgets>=7.6.5->pycaret) (2.21)\n"
     ]
    }
   ],
   "source": [
    "!pip install pycaret"
   ]
  },
  {
   "cell_type": "code",
   "execution_count": 194,
   "id": "b9a92697",
   "metadata": {},
   "outputs": [
    {
     "data": {
      "text/html": [
       "<style type=\"text/css\">\n",
       "#T_6394f_row10_col1 {\n",
       "  background-color: lightgreen;\n",
       "}\n",
       "</style>\n",
       "<table id=\"T_6394f\">\n",
       "  <thead>\n",
       "    <tr>\n",
       "      <th class=\"blank level0\" >&nbsp;</th>\n",
       "      <th id=\"T_6394f_level0_col0\" class=\"col_heading level0 col0\" >Description</th>\n",
       "      <th id=\"T_6394f_level0_col1\" class=\"col_heading level0 col1\" >Value</th>\n",
       "    </tr>\n",
       "  </thead>\n",
       "  <tbody>\n",
       "    <tr>\n",
       "      <th id=\"T_6394f_level0_row0\" class=\"row_heading level0 row0\" >0</th>\n",
       "      <td id=\"T_6394f_row0_col0\" class=\"data row0 col0\" >Session id</td>\n",
       "      <td id=\"T_6394f_row0_col1\" class=\"data row0 col1\" >123</td>\n",
       "    </tr>\n",
       "    <tr>\n",
       "      <th id=\"T_6394f_level0_row1\" class=\"row_heading level0 row1\" >1</th>\n",
       "      <td id=\"T_6394f_row1_col0\" class=\"data row1 col0\" >Target</td>\n",
       "      <td id=\"T_6394f_row1_col1\" class=\"data row1 col1\" >Y</td>\n",
       "    </tr>\n",
       "    <tr>\n",
       "      <th id=\"T_6394f_level0_row2\" class=\"row_heading level0 row2\" >2</th>\n",
       "      <td id=\"T_6394f_row2_col0\" class=\"data row2 col0\" >Target type</td>\n",
       "      <td id=\"T_6394f_row2_col1\" class=\"data row2 col1\" >Binary</td>\n",
       "    </tr>\n",
       "    <tr>\n",
       "      <th id=\"T_6394f_level0_row3\" class=\"row_heading level0 row3\" >3</th>\n",
       "      <td id=\"T_6394f_row3_col0\" class=\"data row3 col0\" >Original data shape</td>\n",
       "      <td id=\"T_6394f_row3_col1\" class=\"data row3 col1\" >(12684, 24)</td>\n",
       "    </tr>\n",
       "    <tr>\n",
       "      <th id=\"T_6394f_level0_row4\" class=\"row_heading level0 row4\" >4</th>\n",
       "      <td id=\"T_6394f_row4_col0\" class=\"data row4 col0\" >Transformed data shape</td>\n",
       "      <td id=\"T_6394f_row4_col1\" class=\"data row4 col1\" >(12684, 107)</td>\n",
       "    </tr>\n",
       "    <tr>\n",
       "      <th id=\"T_6394f_level0_row5\" class=\"row_heading level0 row5\" >5</th>\n",
       "      <td id=\"T_6394f_row5_col0\" class=\"data row5 col0\" >Transformed train set shape</td>\n",
       "      <td id=\"T_6394f_row5_col1\" class=\"data row5 col1\" >(8878, 107)</td>\n",
       "    </tr>\n",
       "    <tr>\n",
       "      <th id=\"T_6394f_level0_row6\" class=\"row_heading level0 row6\" >6</th>\n",
       "      <td id=\"T_6394f_row6_col0\" class=\"data row6 col0\" >Transformed test set shape</td>\n",
       "      <td id=\"T_6394f_row6_col1\" class=\"data row6 col1\" >(3806, 107)</td>\n",
       "    </tr>\n",
       "    <tr>\n",
       "      <th id=\"T_6394f_level0_row7\" class=\"row_heading level0 row7\" >7</th>\n",
       "      <td id=\"T_6394f_row7_col0\" class=\"data row7 col0\" >Ordinal features</td>\n",
       "      <td id=\"T_6394f_row7_col1\" class=\"data row7 col1\" >2</td>\n",
       "    </tr>\n",
       "    <tr>\n",
       "      <th id=\"T_6394f_level0_row8\" class=\"row_heading level0 row8\" >8</th>\n",
       "      <td id=\"T_6394f_row8_col0\" class=\"data row8 col0\" >Numeric features</td>\n",
       "      <td id=\"T_6394f_row8_col1\" class=\"data row8 col1\" >6</td>\n",
       "    </tr>\n",
       "    <tr>\n",
       "      <th id=\"T_6394f_level0_row9\" class=\"row_heading level0 row9\" >9</th>\n",
       "      <td id=\"T_6394f_row9_col0\" class=\"data row9 col0\" >Categorical features</td>\n",
       "      <td id=\"T_6394f_row9_col1\" class=\"data row9 col1\" >17</td>\n",
       "    </tr>\n",
       "    <tr>\n",
       "      <th id=\"T_6394f_level0_row10\" class=\"row_heading level0 row10\" >10</th>\n",
       "      <td id=\"T_6394f_row10_col0\" class=\"data row10 col0\" >Preprocess</td>\n",
       "      <td id=\"T_6394f_row10_col1\" class=\"data row10 col1\" >True</td>\n",
       "    </tr>\n",
       "    <tr>\n",
       "      <th id=\"T_6394f_level0_row11\" class=\"row_heading level0 row11\" >11</th>\n",
       "      <td id=\"T_6394f_row11_col0\" class=\"data row11 col0\" >Imputation type</td>\n",
       "      <td id=\"T_6394f_row11_col1\" class=\"data row11 col1\" >simple</td>\n",
       "    </tr>\n",
       "    <tr>\n",
       "      <th id=\"T_6394f_level0_row12\" class=\"row_heading level0 row12\" >12</th>\n",
       "      <td id=\"T_6394f_row12_col0\" class=\"data row12 col0\" >Numeric imputation</td>\n",
       "      <td id=\"T_6394f_row12_col1\" class=\"data row12 col1\" >mean</td>\n",
       "    </tr>\n",
       "    <tr>\n",
       "      <th id=\"T_6394f_level0_row13\" class=\"row_heading level0 row13\" >13</th>\n",
       "      <td id=\"T_6394f_row13_col0\" class=\"data row13 col0\" >Categorical imputation</td>\n",
       "      <td id=\"T_6394f_row13_col1\" class=\"data row13 col1\" >mode</td>\n",
       "    </tr>\n",
       "    <tr>\n",
       "      <th id=\"T_6394f_level0_row14\" class=\"row_heading level0 row14\" >14</th>\n",
       "      <td id=\"T_6394f_row14_col0\" class=\"data row14 col0\" >Maximum one-hot encoding</td>\n",
       "      <td id=\"T_6394f_row14_col1\" class=\"data row14 col1\" >25</td>\n",
       "    </tr>\n",
       "    <tr>\n",
       "      <th id=\"T_6394f_level0_row15\" class=\"row_heading level0 row15\" >15</th>\n",
       "      <td id=\"T_6394f_row15_col0\" class=\"data row15 col0\" >Encoding method</td>\n",
       "      <td id=\"T_6394f_row15_col1\" class=\"data row15 col1\" >None</td>\n",
       "    </tr>\n",
       "    <tr>\n",
       "      <th id=\"T_6394f_level0_row16\" class=\"row_heading level0 row16\" >16</th>\n",
       "      <td id=\"T_6394f_row16_col0\" class=\"data row16 col0\" >Fold Generator</td>\n",
       "      <td id=\"T_6394f_row16_col1\" class=\"data row16 col1\" >StratifiedKFold</td>\n",
       "    </tr>\n",
       "    <tr>\n",
       "      <th id=\"T_6394f_level0_row17\" class=\"row_heading level0 row17\" >17</th>\n",
       "      <td id=\"T_6394f_row17_col0\" class=\"data row17 col0\" >Fold Number</td>\n",
       "      <td id=\"T_6394f_row17_col1\" class=\"data row17 col1\" >10</td>\n",
       "    </tr>\n",
       "    <tr>\n",
       "      <th id=\"T_6394f_level0_row18\" class=\"row_heading level0 row18\" >18</th>\n",
       "      <td id=\"T_6394f_row18_col0\" class=\"data row18 col0\" >CPU Jobs</td>\n",
       "      <td id=\"T_6394f_row18_col1\" class=\"data row18 col1\" >-1</td>\n",
       "    </tr>\n",
       "    <tr>\n",
       "      <th id=\"T_6394f_level0_row19\" class=\"row_heading level0 row19\" >19</th>\n",
       "      <td id=\"T_6394f_row19_col0\" class=\"data row19 col0\" >Use GPU</td>\n",
       "      <td id=\"T_6394f_row19_col1\" class=\"data row19 col1\" >False</td>\n",
       "    </tr>\n",
       "    <tr>\n",
       "      <th id=\"T_6394f_level0_row20\" class=\"row_heading level0 row20\" >20</th>\n",
       "      <td id=\"T_6394f_row20_col0\" class=\"data row20 col0\" >Log Experiment</td>\n",
       "      <td id=\"T_6394f_row20_col1\" class=\"data row20 col1\" >False</td>\n",
       "    </tr>\n",
       "    <tr>\n",
       "      <th id=\"T_6394f_level0_row21\" class=\"row_heading level0 row21\" >21</th>\n",
       "      <td id=\"T_6394f_row21_col0\" class=\"data row21 col0\" >Experiment Name</td>\n",
       "      <td id=\"T_6394f_row21_col1\" class=\"data row21 col1\" >clf-default-name</td>\n",
       "    </tr>\n",
       "    <tr>\n",
       "      <th id=\"T_6394f_level0_row22\" class=\"row_heading level0 row22\" >22</th>\n",
       "      <td id=\"T_6394f_row22_col0\" class=\"data row22 col0\" >USI</td>\n",
       "      <td id=\"T_6394f_row22_col1\" class=\"data row22 col1\" >5639</td>\n",
       "    </tr>\n",
       "  </tbody>\n",
       "</table>\n"
      ],
      "text/plain": [
       "<pandas.io.formats.style.Styler at 0x22a8c06ff70>"
      ]
     },
     "metadata": {},
     "output_type": "display_data"
    }
   ],
   "source": [
    "from pycaret.classification import *\n",
    "s=setup(data=invehicle,target='Y',session_id=123)"
   ]
  },
  {
   "cell_type": "code",
   "execution_count": 195,
   "id": "2e78bb07",
   "metadata": {},
   "outputs": [
    {
     "data": {
      "text/html": [],
      "text/plain": [
       "<IPython.core.display.HTML object>"
      ]
     },
     "metadata": {},
     "output_type": "display_data"
    },
    {
     "data": {
      "text/html": [
       "<style type=\"text/css\">\n",
       "#T_07747 th {\n",
       "  text-align: left;\n",
       "}\n",
       "#T_07747_row0_col0, #T_07747_row0_col2, #T_07747_row0_col3, #T_07747_row0_col4, #T_07747_row1_col0, #T_07747_row1_col1, #T_07747_row1_col3, #T_07747_row1_col4, #T_07747_row1_col6, #T_07747_row1_col7, #T_07747_row2_col0, #T_07747_row2_col1, #T_07747_row2_col2, #T_07747_row2_col3, #T_07747_row2_col4, #T_07747_row2_col5, #T_07747_row2_col6, #T_07747_row2_col7, #T_07747_row3_col0, #T_07747_row3_col1, #T_07747_row3_col2, #T_07747_row3_col3, #T_07747_row3_col4, #T_07747_row3_col5, #T_07747_row3_col6, #T_07747_row3_col7, #T_07747_row4_col0, #T_07747_row4_col1, #T_07747_row4_col2, #T_07747_row4_col3, #T_07747_row4_col4, #T_07747_row4_col5, #T_07747_row4_col6, #T_07747_row4_col7, #T_07747_row5_col0, #T_07747_row5_col1, #T_07747_row5_col2, #T_07747_row5_col3, #T_07747_row5_col4, #T_07747_row5_col5, #T_07747_row5_col6, #T_07747_row5_col7, #T_07747_row6_col0, #T_07747_row6_col1, #T_07747_row6_col2, #T_07747_row6_col3, #T_07747_row6_col4, #T_07747_row6_col5, #T_07747_row6_col6, #T_07747_row6_col7, #T_07747_row7_col0, #T_07747_row7_col1, #T_07747_row7_col2, #T_07747_row7_col3, #T_07747_row7_col4, #T_07747_row7_col5, #T_07747_row7_col6, #T_07747_row7_col7, #T_07747_row8_col0, #T_07747_row8_col1, #T_07747_row8_col2, #T_07747_row8_col3, #T_07747_row8_col4, #T_07747_row8_col5, #T_07747_row8_col6, #T_07747_row8_col7, #T_07747_row9_col0, #T_07747_row9_col1, #T_07747_row9_col2, #T_07747_row9_col3, #T_07747_row9_col4, #T_07747_row9_col5, #T_07747_row9_col6, #T_07747_row9_col7, #T_07747_row10_col0, #T_07747_row10_col1, #T_07747_row10_col2, #T_07747_row10_col3, #T_07747_row10_col4, #T_07747_row10_col5, #T_07747_row10_col6, #T_07747_row10_col7, #T_07747_row11_col0, #T_07747_row11_col1, #T_07747_row11_col2, #T_07747_row11_col4, #T_07747_row11_col5, #T_07747_row11_col6, #T_07747_row11_col7, #T_07747_row12_col0, #T_07747_row12_col1, #T_07747_row12_col2, #T_07747_row12_col3, #T_07747_row12_col4, #T_07747_row12_col5, #T_07747_row12_col6, #T_07747_row12_col7, #T_07747_row13_col0, #T_07747_row13_col1, #T_07747_row13_col2, #T_07747_row13_col3, #T_07747_row13_col5, #T_07747_row13_col6, #T_07747_row13_col7 {\n",
       "  text-align: left;\n",
       "}\n",
       "#T_07747_row0_col1, #T_07747_row0_col5, #T_07747_row0_col6, #T_07747_row0_col7, #T_07747_row1_col2, #T_07747_row1_col5, #T_07747_row11_col3, #T_07747_row13_col4 {\n",
       "  text-align: left;\n",
       "  background-color: yellow;\n",
       "}\n",
       "#T_07747_row0_col8, #T_07747_row1_col8, #T_07747_row2_col8, #T_07747_row3_col8, #T_07747_row4_col8, #T_07747_row5_col8, #T_07747_row6_col8, #T_07747_row7_col8, #T_07747_row8_col8, #T_07747_row9_col8, #T_07747_row10_col8, #T_07747_row11_col8, #T_07747_row12_col8 {\n",
       "  text-align: left;\n",
       "  background-color: lightgrey;\n",
       "}\n",
       "#T_07747_row13_col8 {\n",
       "  text-align: left;\n",
       "  background-color: yellow;\n",
       "  background-color: lightgrey;\n",
       "}\n",
       "</style>\n",
       "<table id=\"T_07747\">\n",
       "  <thead>\n",
       "    <tr>\n",
       "      <th class=\"blank level0\" >&nbsp;</th>\n",
       "      <th id=\"T_07747_level0_col0\" class=\"col_heading level0 col0\" >Model</th>\n",
       "      <th id=\"T_07747_level0_col1\" class=\"col_heading level0 col1\" >Accuracy</th>\n",
       "      <th id=\"T_07747_level0_col2\" class=\"col_heading level0 col2\" >AUC</th>\n",
       "      <th id=\"T_07747_level0_col3\" class=\"col_heading level0 col3\" >Recall</th>\n",
       "      <th id=\"T_07747_level0_col4\" class=\"col_heading level0 col4\" >Prec.</th>\n",
       "      <th id=\"T_07747_level0_col5\" class=\"col_heading level0 col5\" >F1</th>\n",
       "      <th id=\"T_07747_level0_col6\" class=\"col_heading level0 col6\" >Kappa</th>\n",
       "      <th id=\"T_07747_level0_col7\" class=\"col_heading level0 col7\" >MCC</th>\n",
       "      <th id=\"T_07747_level0_col8\" class=\"col_heading level0 col8\" >TT (Sec)</th>\n",
       "    </tr>\n",
       "  </thead>\n",
       "  <tbody>\n",
       "    <tr>\n",
       "      <th id=\"T_07747_level0_row0\" class=\"row_heading level0 row0\" >et</th>\n",
       "      <td id=\"T_07747_row0_col0\" class=\"data row0 col0\" >Extra Trees Classifier</td>\n",
       "      <td id=\"T_07747_row0_col1\" class=\"data row0 col1\" >0.7619</td>\n",
       "      <td id=\"T_07747_row0_col2\" class=\"data row0 col2\" >0.8286</td>\n",
       "      <td id=\"T_07747_row0_col3\" class=\"data row0 col3\" >0.8237</td>\n",
       "      <td id=\"T_07747_row0_col4\" class=\"data row0 col4\" >0.7726</td>\n",
       "      <td id=\"T_07747_row0_col5\" class=\"data row0 col5\" >0.7972</td>\n",
       "      <td id=\"T_07747_row0_col6\" class=\"data row0 col6\" >0.5095</td>\n",
       "      <td id=\"T_07747_row0_col7\" class=\"data row0 col7\" >0.5112</td>\n",
       "      <td id=\"T_07747_row0_col8\" class=\"data row0 col8\" >0.4280</td>\n",
       "    </tr>\n",
       "    <tr>\n",
       "      <th id=\"T_07747_level0_row1\" class=\"row_heading level0 row1\" >rf</th>\n",
       "      <td id=\"T_07747_row1_col0\" class=\"data row1 col0\" >Random Forest Classifier</td>\n",
       "      <td id=\"T_07747_row1_col1\" class=\"data row1 col1\" >0.7606</td>\n",
       "      <td id=\"T_07747_row1_col2\" class=\"data row1 col2\" >0.8289</td>\n",
       "      <td id=\"T_07747_row1_col3\" class=\"data row1 col3\" >0.8280</td>\n",
       "      <td id=\"T_07747_row1_col4\" class=\"data row1 col4\" >0.7689</td>\n",
       "      <td id=\"T_07747_row1_col5\" class=\"data row1 col5\" >0.7972</td>\n",
       "      <td id=\"T_07747_row1_col6\" class=\"data row1 col6\" >0.5061</td>\n",
       "      <td id=\"T_07747_row1_col7\" class=\"data row1 col7\" >0.5085</td>\n",
       "      <td id=\"T_07747_row1_col8\" class=\"data row1 col8\" >0.4080</td>\n",
       "    </tr>\n",
       "    <tr>\n",
       "      <th id=\"T_07747_level0_row2\" class=\"row_heading level0 row2\" >lightgbm</th>\n",
       "      <td id=\"T_07747_row2_col0\" class=\"data row2 col0\" >Light Gradient Boosting Machine</td>\n",
       "      <td id=\"T_07747_row2_col1\" class=\"data row2 col1\" >0.7574</td>\n",
       "      <td id=\"T_07747_row2_col2\" class=\"data row2 col2\" >0.8217</td>\n",
       "      <td id=\"T_07747_row2_col3\" class=\"data row2 col3\" >0.8254</td>\n",
       "      <td id=\"T_07747_row2_col4\" class=\"data row2 col4\" >0.7660</td>\n",
       "      <td id=\"T_07747_row2_col5\" class=\"data row2 col5\" >0.7945</td>\n",
       "      <td id=\"T_07747_row2_col6\" class=\"data row2 col6\" >0.4993</td>\n",
       "      <td id=\"T_07747_row2_col7\" class=\"data row2 col7\" >0.5017</td>\n",
       "      <td id=\"T_07747_row2_col8\" class=\"data row2 col8\" >0.4630</td>\n",
       "    </tr>\n",
       "    <tr>\n",
       "      <th id=\"T_07747_level0_row3\" class=\"row_heading level0 row3\" >gbc</th>\n",
       "      <td id=\"T_07747_row3_col0\" class=\"data row3 col0\" >Gradient Boosting Classifier</td>\n",
       "      <td id=\"T_07747_row3_col1\" class=\"data row3 col1\" >0.7244</td>\n",
       "      <td id=\"T_07747_row3_col2\" class=\"data row3 col2\" >0.7828</td>\n",
       "      <td id=\"T_07747_row3_col3\" class=\"data row3 col3\" >0.8139</td>\n",
       "      <td id=\"T_07747_row3_col4\" class=\"data row3 col4\" >0.7316</td>\n",
       "      <td id=\"T_07747_row3_col5\" class=\"data row3 col5\" >0.7705</td>\n",
       "      <td id=\"T_07747_row3_col6\" class=\"data row3 col6\" >0.4279</td>\n",
       "      <td id=\"T_07747_row3_col7\" class=\"data row3 col7\" >0.4320</td>\n",
       "      <td id=\"T_07747_row3_col8\" class=\"data row3 col8\" >0.3610</td>\n",
       "    </tr>\n",
       "    <tr>\n",
       "      <th id=\"T_07747_level0_row4\" class=\"row_heading level0 row4\" >lr</th>\n",
       "      <td id=\"T_07747_row4_col0\" class=\"data row4 col0\" >Logistic Regression</td>\n",
       "      <td id=\"T_07747_row4_col1\" class=\"data row4 col1\" >0.6898</td>\n",
       "      <td id=\"T_07747_row4_col2\" class=\"data row4 col2\" >0.7444</td>\n",
       "      <td id=\"T_07747_row4_col3\" class=\"data row4 col3\" >0.7686</td>\n",
       "      <td id=\"T_07747_row4_col4\" class=\"data row4 col4\" >0.7098</td>\n",
       "      <td id=\"T_07747_row4_col5\" class=\"data row4 col5\" >0.7379</td>\n",
       "      <td id=\"T_07747_row4_col6\" class=\"data row4 col6\" >0.3593</td>\n",
       "      <td id=\"T_07747_row4_col7\" class=\"data row4 col7\" >0.3612</td>\n",
       "      <td id=\"T_07747_row4_col8\" class=\"data row4 col8\" >1.1340</td>\n",
       "    </tr>\n",
       "    <tr>\n",
       "      <th id=\"T_07747_level0_row5\" class=\"row_heading level0 row5\" >ada</th>\n",
       "      <td id=\"T_07747_row5_col0\" class=\"data row5 col0\" >Ada Boost Classifier</td>\n",
       "      <td id=\"T_07747_row5_col1\" class=\"data row5 col1\" >0.6893</td>\n",
       "      <td id=\"T_07747_row5_col2\" class=\"data row5 col2\" >0.7423</td>\n",
       "      <td id=\"T_07747_row5_col3\" class=\"data row5 col3\" >0.7737</td>\n",
       "      <td id=\"T_07747_row5_col4\" class=\"data row5 col4\" >0.7073</td>\n",
       "      <td id=\"T_07747_row5_col5\" class=\"data row5 col5\" >0.7389</td>\n",
       "      <td id=\"T_07747_row5_col6\" class=\"data row5 col6\" >0.3573</td>\n",
       "      <td id=\"T_07747_row5_col7\" class=\"data row5 col7\" >0.3597</td>\n",
       "      <td id=\"T_07747_row5_col8\" class=\"data row5 col8\" >0.3040</td>\n",
       "    </tr>\n",
       "    <tr>\n",
       "      <th id=\"T_07747_level0_row6\" class=\"row_heading level0 row6\" >ridge</th>\n",
       "      <td id=\"T_07747_row6_col0\" class=\"data row6 col0\" >Ridge Classifier</td>\n",
       "      <td id=\"T_07747_row6_col1\" class=\"data row6 col1\" >0.6886</td>\n",
       "      <td id=\"T_07747_row6_col2\" class=\"data row6 col2\" >0.0000</td>\n",
       "      <td id=\"T_07747_row6_col3\" class=\"data row6 col3\" >0.7658</td>\n",
       "      <td id=\"T_07747_row6_col4\" class=\"data row6 col4\" >0.7095</td>\n",
       "      <td id=\"T_07747_row6_col5\" class=\"data row6 col5\" >0.7365</td>\n",
       "      <td id=\"T_07747_row6_col6\" class=\"data row6 col6\" >0.3571</td>\n",
       "      <td id=\"T_07747_row6_col7\" class=\"data row6 col7\" >0.3589</td>\n",
       "      <td id=\"T_07747_row6_col8\" class=\"data row6 col8\" >0.2820</td>\n",
       "    </tr>\n",
       "    <tr>\n",
       "      <th id=\"T_07747_level0_row7\" class=\"row_heading level0 row7\" >lda</th>\n",
       "      <td id=\"T_07747_row7_col0\" class=\"data row7 col0\" >Linear Discriminant Analysis</td>\n",
       "      <td id=\"T_07747_row7_col1\" class=\"data row7 col1\" >0.6881</td>\n",
       "      <td id=\"T_07747_row7_col2\" class=\"data row7 col2\" >0.7447</td>\n",
       "      <td id=\"T_07747_row7_col3\" class=\"data row7 col3\" >0.7644</td>\n",
       "      <td id=\"T_07747_row7_col4\" class=\"data row7 col4\" >0.7095</td>\n",
       "      <td id=\"T_07747_row7_col5\" class=\"data row7 col5\" >0.7358</td>\n",
       "      <td id=\"T_07747_row7_col6\" class=\"data row7 col6\" >0.3564</td>\n",
       "      <td id=\"T_07747_row7_col7\" class=\"data row7 col7\" >0.3581</td>\n",
       "      <td id=\"T_07747_row7_col8\" class=\"data row7 col8\" >0.3000</td>\n",
       "    </tr>\n",
       "    <tr>\n",
       "      <th id=\"T_07747_level0_row8\" class=\"row_heading level0 row8\" >dt</th>\n",
       "      <td id=\"T_07747_row8_col0\" class=\"data row8 col0\" >Decision Tree Classifier</td>\n",
       "      <td id=\"T_07747_row8_col1\" class=\"data row8 col1\" >0.6830</td>\n",
       "      <td id=\"T_07747_row8_col2\" class=\"data row8 col2\" >0.6771</td>\n",
       "      <td id=\"T_07747_row8_col3\" class=\"data row8 col3\" >0.7210</td>\n",
       "      <td id=\"T_07747_row8_col4\" class=\"data row8 col4\" >0.7213</td>\n",
       "      <td id=\"T_07747_row8_col5\" class=\"data row8 col5\" >0.7211</td>\n",
       "      <td id=\"T_07747_row8_col6\" class=\"data row8 col6\" >0.3540</td>\n",
       "      <td id=\"T_07747_row8_col7\" class=\"data row8 col7\" >0.3541</td>\n",
       "      <td id=\"T_07747_row8_col8\" class=\"data row8 col8\" >0.2680</td>\n",
       "    </tr>\n",
       "    <tr>\n",
       "      <th id=\"T_07747_level0_row9\" class=\"row_heading level0 row9\" >knn</th>\n",
       "      <td id=\"T_07747_row9_col0\" class=\"data row9 col0\" >K Neighbors Classifier</td>\n",
       "      <td id=\"T_07747_row9_col1\" class=\"data row9 col1\" >0.6557</td>\n",
       "      <td id=\"T_07747_row9_col2\" class=\"data row9 col2\" >0.6898</td>\n",
       "      <td id=\"T_07747_row9_col3\" class=\"data row9 col3\" >0.7220</td>\n",
       "      <td id=\"T_07747_row9_col4\" class=\"data row9 col4\" >0.6878</td>\n",
       "      <td id=\"T_07747_row9_col5\" class=\"data row9 col5\" >0.7044</td>\n",
       "      <td id=\"T_07747_row9_col6\" class=\"data row9 col6\" >0.2926</td>\n",
       "      <td id=\"T_07747_row9_col7\" class=\"data row9 col7\" >0.2932</td>\n",
       "      <td id=\"T_07747_row9_col8\" class=\"data row9 col8\" >0.6000</td>\n",
       "    </tr>\n",
       "    <tr>\n",
       "      <th id=\"T_07747_level0_row10\" class=\"row_heading level0 row10\" >nb</th>\n",
       "      <td id=\"T_07747_row10_col0\" class=\"data row10 col0\" >Naive Bayes</td>\n",
       "      <td id=\"T_07747_row10_col1\" class=\"data row10 col1\" >0.6307</td>\n",
       "      <td id=\"T_07747_row10_col2\" class=\"data row10 col2\" >0.6624</td>\n",
       "      <td id=\"T_07747_row10_col3\" class=\"data row10 col3\" >0.6350</td>\n",
       "      <td id=\"T_07747_row10_col4\" class=\"data row10 col4\" >0.6910</td>\n",
       "      <td id=\"T_07747_row10_col5\" class=\"data row10 col5\" >0.6616</td>\n",
       "      <td id=\"T_07747_row10_col6\" class=\"data row10 col6\" >0.2565</td>\n",
       "      <td id=\"T_07747_row10_col7\" class=\"data row10 col7\" >0.2579</td>\n",
       "      <td id=\"T_07747_row10_col8\" class=\"data row10 col8\" >0.2710</td>\n",
       "    </tr>\n",
       "    <tr>\n",
       "      <th id=\"T_07747_level0_row11\" class=\"row_heading level0 row11\" >dummy</th>\n",
       "      <td id=\"T_07747_row11_col0\" class=\"data row11 col0\" >Dummy Classifier</td>\n",
       "      <td id=\"T_07747_row11_col1\" class=\"data row11 col1\" >0.5685</td>\n",
       "      <td id=\"T_07747_row11_col2\" class=\"data row11 col2\" >0.5000</td>\n",
       "      <td id=\"T_07747_row11_col3\" class=\"data row11 col3\" >1.0000</td>\n",
       "      <td id=\"T_07747_row11_col4\" class=\"data row11 col4\" >0.5685</td>\n",
       "      <td id=\"T_07747_row11_col5\" class=\"data row11 col5\" >0.7249</td>\n",
       "      <td id=\"T_07747_row11_col6\" class=\"data row11 col6\" >0.0000</td>\n",
       "      <td id=\"T_07747_row11_col7\" class=\"data row11 col7\" >0.0000</td>\n",
       "      <td id=\"T_07747_row11_col8\" class=\"data row11 col8\" >0.2910</td>\n",
       "    </tr>\n",
       "    <tr>\n",
       "      <th id=\"T_07747_level0_row12\" class=\"row_heading level0 row12\" >qda</th>\n",
       "      <td id=\"T_07747_row12_col0\" class=\"data row12 col0\" >Quadratic Discriminant Analysis</td>\n",
       "      <td id=\"T_07747_row12_col1\" class=\"data row12 col1\" >0.5503</td>\n",
       "      <td id=\"T_07747_row12_col2\" class=\"data row12 col2\" >0.5607</td>\n",
       "      <td id=\"T_07747_row12_col3\" class=\"data row12 col3\" >0.5853</td>\n",
       "      <td id=\"T_07747_row12_col4\" class=\"data row12 col4\" >0.6130</td>\n",
       "      <td id=\"T_07747_row12_col5\" class=\"data row12 col5\" >0.5648</td>\n",
       "      <td id=\"T_07747_row12_col6\" class=\"data row12 col6\" >0.0898</td>\n",
       "      <td id=\"T_07747_row12_col7\" class=\"data row12 col7\" >0.0975</td>\n",
       "      <td id=\"T_07747_row12_col8\" class=\"data row12 col8\" >0.2890</td>\n",
       "    </tr>\n",
       "    <tr>\n",
       "      <th id=\"T_07747_level0_row13\" class=\"row_heading level0 row13\" >svm</th>\n",
       "      <td id=\"T_07747_row13_col0\" class=\"data row13 col0\" >SVM - Linear Kernel</td>\n",
       "      <td id=\"T_07747_row13_col1\" class=\"data row13 col1\" >0.5446</td>\n",
       "      <td id=\"T_07747_row13_col2\" class=\"data row13 col2\" >0.0000</td>\n",
       "      <td id=\"T_07747_row13_col3\" class=\"data row13 col3\" >0.4464</td>\n",
       "      <td id=\"T_07747_row13_col4\" class=\"data row13 col4\" >0.7736</td>\n",
       "      <td id=\"T_07747_row13_col5\" class=\"data row13 col5\" >0.4154</td>\n",
       "      <td id=\"T_07747_row13_col6\" class=\"data row13 col6\" >0.1178</td>\n",
       "      <td id=\"T_07747_row13_col7\" class=\"data row13 col7\" >0.1853</td>\n",
       "      <td id=\"T_07747_row13_col8\" class=\"data row13 col8\" >0.2550</td>\n",
       "    </tr>\n",
       "  </tbody>\n",
       "</table>\n"
      ],
      "text/plain": [
       "<pandas.io.formats.style.Styler at 0x22a9be0fe20>"
      ]
     },
     "metadata": {},
     "output_type": "display_data"
    },
    {
     "data": {
      "application/vnd.jupyter.widget-view+json": {
       "model_id": "",
       "version_major": 2,
       "version_minor": 0
      },
      "text/plain": [
       "Processing:   0%|          | 0/61 [00:00<?, ?it/s]"
      ]
     },
     "metadata": {},
     "output_type": "display_data"
    }
   ],
   "source": [
    "best_model=compare_models()"
   ]
  },
  {
   "cell_type": "code",
   "execution_count": 196,
   "id": "7f6ff2ea",
   "metadata": {},
   "outputs": [
    {
     "data": {
      "text/html": [
       "<style type=\"text/css\">\n",
       "#T_09b68_row8_col1 {\n",
       "  background-color: lightgreen;\n",
       "}\n",
       "</style>\n",
       "<table id=\"T_09b68\">\n",
       "  <thead>\n",
       "    <tr>\n",
       "      <th class=\"blank level0\" >&nbsp;</th>\n",
       "      <th id=\"T_09b68_level0_col0\" class=\"col_heading level0 col0\" >Description</th>\n",
       "      <th id=\"T_09b68_level0_col1\" class=\"col_heading level0 col1\" >Value</th>\n",
       "    </tr>\n",
       "  </thead>\n",
       "  <tbody>\n",
       "    <tr>\n",
       "      <th id=\"T_09b68_level0_row0\" class=\"row_heading level0 row0\" >0</th>\n",
       "      <td id=\"T_09b68_row0_col0\" class=\"data row0 col0\" >Session id</td>\n",
       "      <td id=\"T_09b68_row0_col1\" class=\"data row0 col1\" >123</td>\n",
       "    </tr>\n",
       "    <tr>\n",
       "      <th id=\"T_09b68_level0_row1\" class=\"row_heading level0 row1\" >1</th>\n",
       "      <td id=\"T_09b68_row1_col0\" class=\"data row1 col0\" >Target</td>\n",
       "      <td id=\"T_09b68_row1_col1\" class=\"data row1 col1\" >Y</td>\n",
       "    </tr>\n",
       "    <tr>\n",
       "      <th id=\"T_09b68_level0_row2\" class=\"row_heading level0 row2\" >2</th>\n",
       "      <td id=\"T_09b68_row2_col0\" class=\"data row2 col0\" >Target type</td>\n",
       "      <td id=\"T_09b68_row2_col1\" class=\"data row2 col1\" >Binary</td>\n",
       "    </tr>\n",
       "    <tr>\n",
       "      <th id=\"T_09b68_level0_row3\" class=\"row_heading level0 row3\" >3</th>\n",
       "      <td id=\"T_09b68_row3_col0\" class=\"data row3 col0\" >Original data shape</td>\n",
       "      <td id=\"T_09b68_row3_col1\" class=\"data row3 col1\" >(12684, 116)</td>\n",
       "    </tr>\n",
       "    <tr>\n",
       "      <th id=\"T_09b68_level0_row4\" class=\"row_heading level0 row4\" >4</th>\n",
       "      <td id=\"T_09b68_row4_col0\" class=\"data row4 col0\" >Transformed data shape</td>\n",
       "      <td id=\"T_09b68_row4_col1\" class=\"data row4 col1\" >(12684, 116)</td>\n",
       "    </tr>\n",
       "    <tr>\n",
       "      <th id=\"T_09b68_level0_row5\" class=\"row_heading level0 row5\" >5</th>\n",
       "      <td id=\"T_09b68_row5_col0\" class=\"data row5 col0\" >Transformed train set shape</td>\n",
       "      <td id=\"T_09b68_row5_col1\" class=\"data row5 col1\" >(8878, 116)</td>\n",
       "    </tr>\n",
       "    <tr>\n",
       "      <th id=\"T_09b68_level0_row6\" class=\"row_heading level0 row6\" >6</th>\n",
       "      <td id=\"T_09b68_row6_col0\" class=\"data row6 col0\" >Transformed test set shape</td>\n",
       "      <td id=\"T_09b68_row6_col1\" class=\"data row6 col1\" >(3806, 116)</td>\n",
       "    </tr>\n",
       "    <tr>\n",
       "      <th id=\"T_09b68_level0_row7\" class=\"row_heading level0 row7\" >7</th>\n",
       "      <td id=\"T_09b68_row7_col0\" class=\"data row7 col0\" >Numeric features</td>\n",
       "      <td id=\"T_09b68_row7_col1\" class=\"data row7 col1\" >115</td>\n",
       "    </tr>\n",
       "    <tr>\n",
       "      <th id=\"T_09b68_level0_row8\" class=\"row_heading level0 row8\" >8</th>\n",
       "      <td id=\"T_09b68_row8_col0\" class=\"data row8 col0\" >Preprocess</td>\n",
       "      <td id=\"T_09b68_row8_col1\" class=\"data row8 col1\" >True</td>\n",
       "    </tr>\n",
       "    <tr>\n",
       "      <th id=\"T_09b68_level0_row9\" class=\"row_heading level0 row9\" >9</th>\n",
       "      <td id=\"T_09b68_row9_col0\" class=\"data row9 col0\" >Imputation type</td>\n",
       "      <td id=\"T_09b68_row9_col1\" class=\"data row9 col1\" >simple</td>\n",
       "    </tr>\n",
       "    <tr>\n",
       "      <th id=\"T_09b68_level0_row10\" class=\"row_heading level0 row10\" >10</th>\n",
       "      <td id=\"T_09b68_row10_col0\" class=\"data row10 col0\" >Numeric imputation</td>\n",
       "      <td id=\"T_09b68_row10_col1\" class=\"data row10 col1\" >mean</td>\n",
       "    </tr>\n",
       "    <tr>\n",
       "      <th id=\"T_09b68_level0_row11\" class=\"row_heading level0 row11\" >11</th>\n",
       "      <td id=\"T_09b68_row11_col0\" class=\"data row11 col0\" >Categorical imputation</td>\n",
       "      <td id=\"T_09b68_row11_col1\" class=\"data row11 col1\" >mode</td>\n",
       "    </tr>\n",
       "    <tr>\n",
       "      <th id=\"T_09b68_level0_row12\" class=\"row_heading level0 row12\" >12</th>\n",
       "      <td id=\"T_09b68_row12_col0\" class=\"data row12 col0\" >Fold Generator</td>\n",
       "      <td id=\"T_09b68_row12_col1\" class=\"data row12 col1\" >StratifiedKFold</td>\n",
       "    </tr>\n",
       "    <tr>\n",
       "      <th id=\"T_09b68_level0_row13\" class=\"row_heading level0 row13\" >13</th>\n",
       "      <td id=\"T_09b68_row13_col0\" class=\"data row13 col0\" >Fold Number</td>\n",
       "      <td id=\"T_09b68_row13_col1\" class=\"data row13 col1\" >10</td>\n",
       "    </tr>\n",
       "    <tr>\n",
       "      <th id=\"T_09b68_level0_row14\" class=\"row_heading level0 row14\" >14</th>\n",
       "      <td id=\"T_09b68_row14_col0\" class=\"data row14 col0\" >CPU Jobs</td>\n",
       "      <td id=\"T_09b68_row14_col1\" class=\"data row14 col1\" >-1</td>\n",
       "    </tr>\n",
       "    <tr>\n",
       "      <th id=\"T_09b68_level0_row15\" class=\"row_heading level0 row15\" >15</th>\n",
       "      <td id=\"T_09b68_row15_col0\" class=\"data row15 col0\" >Use GPU</td>\n",
       "      <td id=\"T_09b68_row15_col1\" class=\"data row15 col1\" >False</td>\n",
       "    </tr>\n",
       "    <tr>\n",
       "      <th id=\"T_09b68_level0_row16\" class=\"row_heading level0 row16\" >16</th>\n",
       "      <td id=\"T_09b68_row16_col0\" class=\"data row16 col0\" >Log Experiment</td>\n",
       "      <td id=\"T_09b68_row16_col1\" class=\"data row16 col1\" >False</td>\n",
       "    </tr>\n",
       "    <tr>\n",
       "      <th id=\"T_09b68_level0_row17\" class=\"row_heading level0 row17\" >17</th>\n",
       "      <td id=\"T_09b68_row17_col0\" class=\"data row17 col0\" >Experiment Name</td>\n",
       "      <td id=\"T_09b68_row17_col1\" class=\"data row17 col1\" >clf-default-name</td>\n",
       "    </tr>\n",
       "    <tr>\n",
       "      <th id=\"T_09b68_level0_row18\" class=\"row_heading level0 row18\" >18</th>\n",
       "      <td id=\"T_09b68_row18_col0\" class=\"data row18 col0\" >USI</td>\n",
       "      <td id=\"T_09b68_row18_col1\" class=\"data row18 col1\" >2e40</td>\n",
       "    </tr>\n",
       "  </tbody>\n",
       "</table>\n"
      ],
      "text/plain": [
       "<pandas.io.formats.style.Styler at 0x22a8c51d4b0>"
      ]
     },
     "metadata": {},
     "output_type": "display_data"
    }
   ],
   "source": [
    "s=setup(data=invehicle_dummy,target='Y',session_id=123)"
   ]
  },
  {
   "cell_type": "code",
   "execution_count": 197,
   "id": "c3c9e692",
   "metadata": {},
   "outputs": [
    {
     "data": {
      "text/html": [],
      "text/plain": [
       "<IPython.core.display.HTML object>"
      ]
     },
     "metadata": {},
     "output_type": "display_data"
    },
    {
     "data": {
      "text/html": [
       "<style type=\"text/css\">\n",
       "#T_0a52f th {\n",
       "  text-align: left;\n",
       "}\n",
       "#T_0a52f_row0_col0, #T_0a52f_row0_col3, #T_0a52f_row0_col4, #T_0a52f_row1_col0, #T_0a52f_row1_col1, #T_0a52f_row1_col2, #T_0a52f_row1_col3, #T_0a52f_row1_col4, #T_0a52f_row1_col5, #T_0a52f_row1_col6, #T_0a52f_row1_col7, #T_0a52f_row2_col0, #T_0a52f_row2_col1, #T_0a52f_row2_col2, #T_0a52f_row2_col3, #T_0a52f_row2_col5, #T_0a52f_row2_col7, #T_0a52f_row3_col0, #T_0a52f_row3_col1, #T_0a52f_row3_col2, #T_0a52f_row3_col3, #T_0a52f_row3_col4, #T_0a52f_row3_col5, #T_0a52f_row3_col6, #T_0a52f_row3_col7, #T_0a52f_row4_col0, #T_0a52f_row4_col1, #T_0a52f_row4_col2, #T_0a52f_row4_col3, #T_0a52f_row4_col4, #T_0a52f_row4_col5, #T_0a52f_row4_col6, #T_0a52f_row4_col7, #T_0a52f_row5_col0, #T_0a52f_row5_col1, #T_0a52f_row5_col2, #T_0a52f_row5_col3, #T_0a52f_row5_col4, #T_0a52f_row5_col5, #T_0a52f_row5_col6, #T_0a52f_row5_col7, #T_0a52f_row6_col0, #T_0a52f_row6_col1, #T_0a52f_row6_col2, #T_0a52f_row6_col3, #T_0a52f_row6_col4, #T_0a52f_row6_col5, #T_0a52f_row6_col6, #T_0a52f_row6_col7, #T_0a52f_row7_col0, #T_0a52f_row7_col1, #T_0a52f_row7_col2, #T_0a52f_row7_col3, #T_0a52f_row7_col4, #T_0a52f_row7_col5, #T_0a52f_row7_col6, #T_0a52f_row7_col7, #T_0a52f_row8_col0, #T_0a52f_row8_col1, #T_0a52f_row8_col2, #T_0a52f_row8_col3, #T_0a52f_row8_col4, #T_0a52f_row8_col5, #T_0a52f_row8_col6, #T_0a52f_row8_col7, #T_0a52f_row9_col0, #T_0a52f_row9_col1, #T_0a52f_row9_col2, #T_0a52f_row9_col3, #T_0a52f_row9_col4, #T_0a52f_row9_col5, #T_0a52f_row9_col6, #T_0a52f_row9_col7, #T_0a52f_row10_col0, #T_0a52f_row10_col1, #T_0a52f_row10_col2, #T_0a52f_row10_col3, #T_0a52f_row10_col4, #T_0a52f_row10_col5, #T_0a52f_row10_col6, #T_0a52f_row10_col7, #T_0a52f_row11_col0, #T_0a52f_row11_col1, #T_0a52f_row11_col2, #T_0a52f_row11_col3, #T_0a52f_row11_col4, #T_0a52f_row11_col5, #T_0a52f_row11_col6, #T_0a52f_row11_col7, #T_0a52f_row12_col0, #T_0a52f_row12_col1, #T_0a52f_row12_col2, #T_0a52f_row12_col4, #T_0a52f_row12_col5, #T_0a52f_row12_col6, #T_0a52f_row12_col7, #T_0a52f_row13_col0, #T_0a52f_row13_col1, #T_0a52f_row13_col2, #T_0a52f_row13_col3, #T_0a52f_row13_col4, #T_0a52f_row13_col5, #T_0a52f_row13_col6, #T_0a52f_row13_col7 {\n",
       "  text-align: left;\n",
       "}\n",
       "#T_0a52f_row0_col1, #T_0a52f_row0_col2, #T_0a52f_row0_col5, #T_0a52f_row0_col6, #T_0a52f_row0_col7, #T_0a52f_row2_col4, #T_0a52f_row2_col6, #T_0a52f_row12_col3 {\n",
       "  text-align: left;\n",
       "  background-color: yellow;\n",
       "}\n",
       "#T_0a52f_row0_col8, #T_0a52f_row1_col8, #T_0a52f_row2_col8, #T_0a52f_row3_col8, #T_0a52f_row4_col8, #T_0a52f_row6_col8, #T_0a52f_row7_col8, #T_0a52f_row8_col8, #T_0a52f_row9_col8, #T_0a52f_row10_col8, #T_0a52f_row11_col8, #T_0a52f_row12_col8, #T_0a52f_row13_col8 {\n",
       "  text-align: left;\n",
       "  background-color: lightgrey;\n",
       "}\n",
       "#T_0a52f_row5_col8 {\n",
       "  text-align: left;\n",
       "  background-color: yellow;\n",
       "  background-color: lightgrey;\n",
       "}\n",
       "</style>\n",
       "<table id=\"T_0a52f\">\n",
       "  <thead>\n",
       "    <tr>\n",
       "      <th class=\"blank level0\" >&nbsp;</th>\n",
       "      <th id=\"T_0a52f_level0_col0\" class=\"col_heading level0 col0\" >Model</th>\n",
       "      <th id=\"T_0a52f_level0_col1\" class=\"col_heading level0 col1\" >Accuracy</th>\n",
       "      <th id=\"T_0a52f_level0_col2\" class=\"col_heading level0 col2\" >AUC</th>\n",
       "      <th id=\"T_0a52f_level0_col3\" class=\"col_heading level0 col3\" >Recall</th>\n",
       "      <th id=\"T_0a52f_level0_col4\" class=\"col_heading level0 col4\" >Prec.</th>\n",
       "      <th id=\"T_0a52f_level0_col5\" class=\"col_heading level0 col5\" >F1</th>\n",
       "      <th id=\"T_0a52f_level0_col6\" class=\"col_heading level0 col6\" >Kappa</th>\n",
       "      <th id=\"T_0a52f_level0_col7\" class=\"col_heading level0 col7\" >MCC</th>\n",
       "      <th id=\"T_0a52f_level0_col8\" class=\"col_heading level0 col8\" >TT (Sec)</th>\n",
       "    </tr>\n",
       "  </thead>\n",
       "  <tbody>\n",
       "    <tr>\n",
       "      <th id=\"T_0a52f_level0_row0\" class=\"row_heading level0 row0\" >lightgbm</th>\n",
       "      <td id=\"T_0a52f_row0_col0\" class=\"data row0 col0\" >Light Gradient Boosting Machine</td>\n",
       "      <td id=\"T_0a52f_row0_col1\" class=\"data row0 col1\" >0.7548</td>\n",
       "      <td id=\"T_0a52f_row0_col2\" class=\"data row0 col2\" >0.8225</td>\n",
       "      <td id=\"T_0a52f_row0_col3\" class=\"data row0 col3\" >0.8284</td>\n",
       "      <td id=\"T_0a52f_row0_col4\" class=\"data row0 col4\" >0.7614</td>\n",
       "      <td id=\"T_0a52f_row0_col5\" class=\"data row0 col5\" >0.7934</td>\n",
       "      <td id=\"T_0a52f_row0_col6\" class=\"data row0 col6\" >0.4931</td>\n",
       "      <td id=\"T_0a52f_row0_col7\" class=\"data row0 col7\" >0.4960</td>\n",
       "      <td id=\"T_0a52f_row0_col8\" class=\"data row0 col8\" >0.2560</td>\n",
       "    </tr>\n",
       "    <tr>\n",
       "      <th id=\"T_0a52f_level0_row1\" class=\"row_heading level0 row1\" >rf</th>\n",
       "      <td id=\"T_0a52f_row1_col0\" class=\"data row1 col0\" >Random Forest Classifier</td>\n",
       "      <td id=\"T_0a52f_row1_col1\" class=\"data row1 col1\" >0.7541</td>\n",
       "      <td id=\"T_0a52f_row1_col2\" class=\"data row1 col2\" >0.8187</td>\n",
       "      <td id=\"T_0a52f_row1_col3\" class=\"data row1 col3\" >0.8233</td>\n",
       "      <td id=\"T_0a52f_row1_col4\" class=\"data row1 col4\" >0.7631</td>\n",
       "      <td id=\"T_0a52f_row1_col5\" class=\"data row1 col5\" >0.7919</td>\n",
       "      <td id=\"T_0a52f_row1_col6\" class=\"data row1 col6\" >0.4924</td>\n",
       "      <td id=\"T_0a52f_row1_col7\" class=\"data row1 col7\" >0.4949</td>\n",
       "      <td id=\"T_0a52f_row1_col8\" class=\"data row1 col8\" >0.3380</td>\n",
       "    </tr>\n",
       "    <tr>\n",
       "      <th id=\"T_0a52f_level0_row2\" class=\"row_heading level0 row2\" >et</th>\n",
       "      <td id=\"T_0a52f_row2_col0\" class=\"data row2 col0\" >Extra Trees Classifier</td>\n",
       "      <td id=\"T_0a52f_row2_col1\" class=\"data row2 col1\" >0.7539</td>\n",
       "      <td id=\"T_0a52f_row2_col2\" class=\"data row2 col2\" >0.8180</td>\n",
       "      <td id=\"T_0a52f_row2_col3\" class=\"data row2 col3\" >0.8165</td>\n",
       "      <td id=\"T_0a52f_row2_col4\" class=\"data row2 col4\" >0.7660</td>\n",
       "      <td id=\"T_0a52f_row2_col5\" class=\"data row2 col5\" >0.7904</td>\n",
       "      <td id=\"T_0a52f_row2_col6\" class=\"data row2 col6\" >0.4931</td>\n",
       "      <td id=\"T_0a52f_row2_col7\" class=\"data row2 col7\" >0.4948</td>\n",
       "      <td id=\"T_0a52f_row2_col8\" class=\"data row2 col8\" >0.3790</td>\n",
       "    </tr>\n",
       "    <tr>\n",
       "      <th id=\"T_0a52f_level0_row3\" class=\"row_heading level0 row3\" >gbc</th>\n",
       "      <td id=\"T_0a52f_row3_col0\" class=\"data row3 col0\" >Gradient Boosting Classifier</td>\n",
       "      <td id=\"T_0a52f_row3_col1\" class=\"data row3 col1\" >0.7247</td>\n",
       "      <td id=\"T_0a52f_row3_col2\" class=\"data row3 col2\" >0.7825</td>\n",
       "      <td id=\"T_0a52f_row3_col3\" class=\"data row3 col3\" >0.8145</td>\n",
       "      <td id=\"T_0a52f_row3_col4\" class=\"data row3 col4\" >0.7317</td>\n",
       "      <td id=\"T_0a52f_row3_col5\" class=\"data row3 col5\" >0.7708</td>\n",
       "      <td id=\"T_0a52f_row3_col6\" class=\"data row3 col6\" >0.4286</td>\n",
       "      <td id=\"T_0a52f_row3_col7\" class=\"data row3 col7\" >0.4327</td>\n",
       "      <td id=\"T_0a52f_row3_col8\" class=\"data row3 col8\" >0.2800</td>\n",
       "    </tr>\n",
       "    <tr>\n",
       "      <th id=\"T_0a52f_level0_row4\" class=\"row_heading level0 row4\" >lr</th>\n",
       "      <td id=\"T_0a52f_row4_col0\" class=\"data row4 col0\" >Logistic Regression</td>\n",
       "      <td id=\"T_0a52f_row4_col1\" class=\"data row4 col1\" >0.6909</td>\n",
       "      <td id=\"T_0a52f_row4_col2\" class=\"data row4 col2\" >0.7451</td>\n",
       "      <td id=\"T_0a52f_row4_col3\" class=\"data row4 col3\" >0.7702</td>\n",
       "      <td id=\"T_0a52f_row4_col4\" class=\"data row4 col4\" >0.7105</td>\n",
       "      <td id=\"T_0a52f_row4_col5\" class=\"data row4 col5\" >0.7390</td>\n",
       "      <td id=\"T_0a52f_row4_col6\" class=\"data row4 col6\" >0.3615</td>\n",
       "      <td id=\"T_0a52f_row4_col7\" class=\"data row4 col7\" >0.3635</td>\n",
       "      <td id=\"T_0a52f_row4_col8\" class=\"data row4 col8\" >0.2360</td>\n",
       "    </tr>\n",
       "    <tr>\n",
       "      <th id=\"T_0a52f_level0_row5\" class=\"row_heading level0 row5\" >lda</th>\n",
       "      <td id=\"T_0a52f_row5_col0\" class=\"data row5 col0\" >Linear Discriminant Analysis</td>\n",
       "      <td id=\"T_0a52f_row5_col1\" class=\"data row5 col1\" >0.6897</td>\n",
       "      <td id=\"T_0a52f_row5_col2\" class=\"data row5 col2\" >0.7453</td>\n",
       "      <td id=\"T_0a52f_row5_col3\" class=\"data row5 col3\" >0.7662</td>\n",
       "      <td id=\"T_0a52f_row5_col4\" class=\"data row5 col4\" >0.7106</td>\n",
       "      <td id=\"T_0a52f_row5_col5\" class=\"data row5 col5\" >0.7373</td>\n",
       "      <td id=\"T_0a52f_row5_col6\" class=\"data row5 col6\" >0.3596</td>\n",
       "      <td id=\"T_0a52f_row5_col7\" class=\"data row5 col7\" >0.3613</td>\n",
       "      <td id=\"T_0a52f_row5_col8\" class=\"data row5 col8\" >0.2310</td>\n",
       "    </tr>\n",
       "    <tr>\n",
       "      <th id=\"T_0a52f_level0_row6\" class=\"row_heading level0 row6\" >ridge</th>\n",
       "      <td id=\"T_0a52f_row6_col0\" class=\"data row6 col0\" >Ridge Classifier</td>\n",
       "      <td id=\"T_0a52f_row6_col1\" class=\"data row6 col1\" >0.6895</td>\n",
       "      <td id=\"T_0a52f_row6_col2\" class=\"data row6 col2\" >0.0000</td>\n",
       "      <td id=\"T_0a52f_row6_col3\" class=\"data row6 col3\" >0.7674</td>\n",
       "      <td id=\"T_0a52f_row6_col4\" class=\"data row6 col4\" >0.7099</td>\n",
       "      <td id=\"T_0a52f_row6_col5\" class=\"data row6 col5\" >0.7374</td>\n",
       "      <td id=\"T_0a52f_row6_col6\" class=\"data row6 col6\" >0.3588</td>\n",
       "      <td id=\"T_0a52f_row6_col7\" class=\"data row6 col7\" >0.3607</td>\n",
       "      <td id=\"T_0a52f_row6_col8\" class=\"data row6 col8\" >0.2440</td>\n",
       "    </tr>\n",
       "    <tr>\n",
       "      <th id=\"T_0a52f_level0_row7\" class=\"row_heading level0 row7\" >ada</th>\n",
       "      <td id=\"T_0a52f_row7_col0\" class=\"data row7 col0\" >Ada Boost Classifier</td>\n",
       "      <td id=\"T_0a52f_row7_col1\" class=\"data row7 col1\" >0.6872</td>\n",
       "      <td id=\"T_0a52f_row7_col2\" class=\"data row7 col2\" >0.7427</td>\n",
       "      <td id=\"T_0a52f_row7_col3\" class=\"data row7 col3\" >0.7709</td>\n",
       "      <td id=\"T_0a52f_row7_col4\" class=\"data row7 col4\" >0.7060</td>\n",
       "      <td id=\"T_0a52f_row7_col5\" class=\"data row7 col5\" >0.7369</td>\n",
       "      <td id=\"T_0a52f_row7_col6\" class=\"data row7 col6\" >0.3530</td>\n",
       "      <td id=\"T_0a52f_row7_col7\" class=\"data row7 col7\" >0.3554</td>\n",
       "      <td id=\"T_0a52f_row7_col8\" class=\"data row7 col8\" >0.2690</td>\n",
       "    </tr>\n",
       "    <tr>\n",
       "      <th id=\"T_0a52f_level0_row8\" class=\"row_heading level0 row8\" >dt</th>\n",
       "      <td id=\"T_0a52f_row8_col0\" class=\"data row8 col0\" >Decision Tree Classifier</td>\n",
       "      <td id=\"T_0a52f_row8_col1\" class=\"data row8 col1\" >0.6821</td>\n",
       "      <td id=\"T_0a52f_row8_col2\" class=\"data row8 col2\" >0.6763</td>\n",
       "      <td id=\"T_0a52f_row8_col3\" class=\"data row8 col3\" >0.7204</td>\n",
       "      <td id=\"T_0a52f_row8_col4\" class=\"data row8 col4\" >0.7206</td>\n",
       "      <td id=\"T_0a52f_row8_col5\" class=\"data row8 col5\" >0.7204</td>\n",
       "      <td id=\"T_0a52f_row8_col6\" class=\"data row8 col6\" >0.3521</td>\n",
       "      <td id=\"T_0a52f_row8_col7\" class=\"data row8 col7\" >0.3523</td>\n",
       "      <td id=\"T_0a52f_row8_col8\" class=\"data row8 col8\" >0.2490</td>\n",
       "    </tr>\n",
       "    <tr>\n",
       "      <th id=\"T_0a52f_level0_row9\" class=\"row_heading level0 row9\" >knn</th>\n",
       "      <td id=\"T_0a52f_row9_col0\" class=\"data row9 col0\" >K Neighbors Classifier</td>\n",
       "      <td id=\"T_0a52f_row9_col1\" class=\"data row9 col1\" >0.6726</td>\n",
       "      <td id=\"T_0a52f_row9_col2\" class=\"data row9 col2\" >0.7176</td>\n",
       "      <td id=\"T_0a52f_row9_col3\" class=\"data row9 col3\" >0.7458</td>\n",
       "      <td id=\"T_0a52f_row9_col4\" class=\"data row9 col4\" >0.6987</td>\n",
       "      <td id=\"T_0a52f_row9_col5\" class=\"data row9 col5\" >0.7214</td>\n",
       "      <td id=\"T_0a52f_row9_col6\" class=\"data row9 col6\" >0.3253</td>\n",
       "      <td id=\"T_0a52f_row9_col7\" class=\"data row9 col7\" >0.3265</td>\n",
       "      <td id=\"T_0a52f_row9_col8\" class=\"data row9 col8\" >0.2700</td>\n",
       "    </tr>\n",
       "    <tr>\n",
       "      <th id=\"T_0a52f_level0_row10\" class=\"row_heading level0 row10\" >svm</th>\n",
       "      <td id=\"T_0a52f_row10_col0\" class=\"data row10 col0\" >SVM - Linear Kernel</td>\n",
       "      <td id=\"T_0a52f_row10_col1\" class=\"data row10 col1\" >0.6668</td>\n",
       "      <td id=\"T_0a52f_row10_col2\" class=\"data row10 col2\" >0.0000</td>\n",
       "      <td id=\"T_0a52f_row10_col3\" class=\"data row10 col3\" >0.7737</td>\n",
       "      <td id=\"T_0a52f_row10_col4\" class=\"data row10 col4\" >0.6901</td>\n",
       "      <td id=\"T_0a52f_row10_col5\" class=\"data row10 col5\" >0.7226</td>\n",
       "      <td id=\"T_0a52f_row10_col6\" class=\"data row10 col6\" >0.3050</td>\n",
       "      <td id=\"T_0a52f_row10_col7\" class=\"data row10 col7\" >0.3206</td>\n",
       "      <td id=\"T_0a52f_row10_col8\" class=\"data row10 col8\" >0.2390</td>\n",
       "    </tr>\n",
       "    <tr>\n",
       "      <th id=\"T_0a52f_level0_row11\" class=\"row_heading level0 row11\" >nb</th>\n",
       "      <td id=\"T_0a52f_row11_col0\" class=\"data row11 col0\" >Naive Bayes</td>\n",
       "      <td id=\"T_0a52f_row11_col1\" class=\"data row11 col1\" >0.6348</td>\n",
       "      <td id=\"T_0a52f_row11_col2\" class=\"data row11 col2\" >0.6655</td>\n",
       "      <td id=\"T_0a52f_row11_col3\" class=\"data row11 col3\" >0.6513</td>\n",
       "      <td id=\"T_0a52f_row11_col4\" class=\"data row11 col4\" >0.6897</td>\n",
       "      <td id=\"T_0a52f_row11_col5\" class=\"data row11 col5\" >0.6697</td>\n",
       "      <td id=\"T_0a52f_row11_col6\" class=\"data row11 col6\" >0.2621</td>\n",
       "      <td id=\"T_0a52f_row11_col7\" class=\"data row11 col7\" >0.2628</td>\n",
       "      <td id=\"T_0a52f_row11_col8\" class=\"data row11 col8\" >0.2330</td>\n",
       "    </tr>\n",
       "    <tr>\n",
       "      <th id=\"T_0a52f_level0_row12\" class=\"row_heading level0 row12\" >dummy</th>\n",
       "      <td id=\"T_0a52f_row12_col0\" class=\"data row12 col0\" >Dummy Classifier</td>\n",
       "      <td id=\"T_0a52f_row12_col1\" class=\"data row12 col1\" >0.5685</td>\n",
       "      <td id=\"T_0a52f_row12_col2\" class=\"data row12 col2\" >0.5000</td>\n",
       "      <td id=\"T_0a52f_row12_col3\" class=\"data row12 col3\" >1.0000</td>\n",
       "      <td id=\"T_0a52f_row12_col4\" class=\"data row12 col4\" >0.5685</td>\n",
       "      <td id=\"T_0a52f_row12_col5\" class=\"data row12 col5\" >0.7249</td>\n",
       "      <td id=\"T_0a52f_row12_col6\" class=\"data row12 col6\" >0.0000</td>\n",
       "      <td id=\"T_0a52f_row12_col7\" class=\"data row12 col7\" >0.0000</td>\n",
       "      <td id=\"T_0a52f_row12_col8\" class=\"data row12 col8\" >0.2670</td>\n",
       "    </tr>\n",
       "    <tr>\n",
       "      <th id=\"T_0a52f_level0_row13\" class=\"row_heading level0 row13\" >qda</th>\n",
       "      <td id=\"T_0a52f_row13_col0\" class=\"data row13 col0\" >Quadratic Discriminant Analysis</td>\n",
       "      <td id=\"T_0a52f_row13_col1\" class=\"data row13 col1\" >0.5545</td>\n",
       "      <td id=\"T_0a52f_row13_col2\" class=\"data row13 col2\" >0.5763</td>\n",
       "      <td id=\"T_0a52f_row13_col3\" class=\"data row13 col3\" >0.5423</td>\n",
       "      <td id=\"T_0a52f_row13_col4\" class=\"data row13 col4\" >0.6288</td>\n",
       "      <td id=\"T_0a52f_row13_col5\" class=\"data row13 col5\" >0.5657</td>\n",
       "      <td id=\"T_0a52f_row13_col6\" class=\"data row13 col6\" >0.1117</td>\n",
       "      <td id=\"T_0a52f_row13_col7\" class=\"data row13 col7\" >0.1186</td>\n",
       "      <td id=\"T_0a52f_row13_col8\" class=\"data row13 col8\" >0.2400</td>\n",
       "    </tr>\n",
       "  </tbody>\n",
       "</table>\n"
      ],
      "text/plain": [
       "<pandas.io.formats.style.Styler at 0x22a8506b640>"
      ]
     },
     "metadata": {},
     "output_type": "display_data"
    },
    {
     "data": {
      "application/vnd.jupyter.widget-view+json": {
       "model_id": "",
       "version_major": 2,
       "version_minor": 0
      },
      "text/plain": [
       "Processing:   0%|          | 0/61 [00:00<?, ?it/s]"
      ]
     },
     "metadata": {},
     "output_type": "display_data"
    }
   ],
   "source": [
    "best_model=compare_models()"
   ]
  },
  {
   "cell_type": "code",
   "execution_count": 198,
   "id": "23020c9f",
   "metadata": {},
   "outputs": [],
   "source": [
    "from sklearn.svm import SVC"
   ]
  },
  {
   "cell_type": "code",
   "execution_count": 199,
   "id": "da3107c5",
   "metadata": {},
   "outputs": [],
   "source": [
    "clf=SVC()"
   ]
  },
  {
   "cell_type": "code",
   "execution_count": 200,
   "id": "6ca552f4",
   "metadata": {},
   "outputs": [],
   "source": [
    "clfmodel=clf.fit(x_train,y_train)"
   ]
  },
  {
   "cell_type": "code",
   "execution_count": 201,
   "id": "73ac6d95",
   "metadata": {},
   "outputs": [
    {
     "data": {
      "text/plain": [
       "array([0.22585223])"
      ]
     },
     "execution_count": 201,
     "metadata": {},
     "output_type": "execute_result"
    }
   ],
   "source": [
    "clfmodel.intercept_"
   ]
  },
  {
   "cell_type": "code",
   "execution_count": 202,
   "id": "16101118",
   "metadata": {},
   "outputs": [
    {
     "data": {
      "text/plain": [
       "array([[0., 1., 0., ..., 0., 0., 1.],\n",
       "       [0., 0., 1., ..., 1., 1., 0.],\n",
       "       [1., 0., 0., ..., 0., 0., 1.],\n",
       "       ...,\n",
       "       [1., 0., 0., ..., 1., 1., 0.],\n",
       "       [0., 1., 0., ..., 0., 0., 1.],\n",
       "       [1., 0., 0., ..., 0., 0., 1.]])"
      ]
     },
     "execution_count": 202,
     "metadata": {},
     "output_type": "execute_result"
    }
   ],
   "source": [
    "clfmodel.support_vectors_"
   ]
  },
  {
   "cell_type": "code",
   "execution_count": 203,
   "id": "83dae6eb",
   "metadata": {},
   "outputs": [
    {
     "data": {
      "text/plain": [
       "0.8183149357963505"
      ]
     },
     "execution_count": 203,
     "metadata": {},
     "output_type": "execute_result"
    }
   ],
   "source": [
    "clfmodel.score(x_train,y_train)"
   ]
  },
  {
   "cell_type": "code",
   "execution_count": null,
   "id": "2c51e2c9",
   "metadata": {},
   "outputs": [],
   "source": []
  }
 ],
 "metadata": {
  "kernelspec": {
   "display_name": "Python 3 (ipykernel)",
   "language": "python",
   "name": "python3"
  },
  "language_info": {
   "codemirror_mode": {
    "name": "ipython",
    "version": 3
   },
   "file_extension": ".py",
   "mimetype": "text/x-python",
   "name": "python",
   "nbconvert_exporter": "python",
   "pygments_lexer": "ipython3",
   "version": "3.10.9"
  }
 },
 "nbformat": 4,
 "nbformat_minor": 5
}
